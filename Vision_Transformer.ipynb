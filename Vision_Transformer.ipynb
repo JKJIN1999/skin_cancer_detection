{
  "nbformat": 4,
  "nbformat_minor": 0,
  "metadata": {
    "colab": {
      "provenance": [],
      "machine_shape": "hm",
      "gpuType": "L4"
    },
    "kernelspec": {
      "name": "python3",
      "display_name": "Python 3"
    },
    "language_info": {
      "name": "python"
    },
    "accelerator": "GPU"
  },
  "cells": [
    {
      "cell_type": "code",
      "execution_count": 1,
      "metadata": {
        "colab": {
          "base_uri": "https://localhost:8080/"
        },
        "id": "FJMr_CtXuBx6",
        "outputId": "28b46467-9f75-42b3-9461-a37141c74af5"
      },
      "outputs": [
        {
          "output_type": "stream",
          "name": "stdout",
          "text": [
            "Mounted at /content/drive\n"
          ]
        }
      ],
      "source": [
        "# Load the Drive helper and mount\n",
        "from google.colab import drive\n",
        "drive.mount('/content/drive')"
      ]
    },
    {
      "cell_type": "code",
      "source": [
        "!kaggle datasets download -d kmader/skin-cancer-mnist-ham10000\n",
        "! mkdir data\n",
        "! unzip -q skin-cancer-mnist-ham10000.zip -d data"
      ],
      "metadata": {
        "colab": {
          "base_uri": "https://localhost:8080/"
        },
        "id": "hi408afFuIPM",
        "outputId": "8a87cb02-4d54-4367-97d0-b320349a9919"
      },
      "execution_count": 2,
      "outputs": [
        {
          "output_type": "stream",
          "name": "stdout",
          "text": [
            "Dataset URL: https://www.kaggle.com/datasets/kmader/skin-cancer-mnist-ham10000\n",
            "License(s): CC-BY-NC-SA-4.0\n",
            "Downloading skin-cancer-mnist-ham10000.zip to /content\n",
            "100% 5.20G/5.20G [04:10<00:00, 23.5MB/s]\n",
            "100% 5.20G/5.20G [04:10<00:00, 22.3MB/s]\n"
          ]
        }
      ]
    },
    {
      "cell_type": "code",
      "source": [
        "import os\n",
        "import numpy as np\n",
        "import torch\n",
        "from torch.utils.data import DataLoader\n",
        "from transformers import ViTForImageClassification, ViTFeatureExtractor\n",
        "from torchvision import transforms\n",
        "from torch import nn, optim\n",
        "from collections import defaultdict\n",
        "from sklearn.metrics import accuracy_score\n",
        "from PIL import Image\n",
        "import itertools\n",
        "import pandas as pd\n",
        "from sklearn.preprocessing import LabelEncoder\n",
        "from itertools import product\n",
        "from tqdm import tqdm  # For progress bar\n",
        "\n",
        "# Constants\n",
        "DATA_DIR = 'data/'\n",
        "METADATA_FILE = os.path.join(DATA_DIR, 'HAM10000_metadata.csv')\n",
        "IMAGE_DIRS = [os.path.join(DATA_DIR, 'HAM10000_images_part_1'),\n",
        "              os.path.join(DATA_DIR, 'HAM10000_images_part_2')]\n",
        "\n",
        "device = torch.device(\"cuda\" if torch.cuda.is_available() else \"cpu\")\n",
        "\n",
        "# Configurable hyperparameters\n",
        "EPOCHS = 10   # Set the number of epochs here\n",
        "BATCH_SIZE = 256   # Set the batch size here\n",
        "PATIENCE = 5  # Early stopping patience (number of epochs with no improvement)\n",
        "\n",
        "# Load Metadata\n",
        "metadata = pd.read_csv(METADATA_FILE)\n",
        "\n",
        "# Encode the string labels into numeric values\n",
        "label_encoder = LabelEncoder()\n",
        "metadata['dx_encoded'] = label_encoder.fit_transform(metadata['dx'])\n",
        "\n",
        "# Initialize Feature Extractor\n",
        "MODEL_NAME = 'google/vit-base-patch32-224-in21k'\n",
        "feature_extractor = ViTFeatureExtractor.from_pretrained(MODEL_NAME)\n",
        "\n",
        "# Augmentation Transforms\n",
        "train_transform = transforms.Compose([\n",
        "    transforms.RandomHorizontalFlip(),\n",
        "    transforms.RandomRotation(20),\n",
        "    transforms.Resize((224, 224)),\n",
        "    transforms.ToTensor(),\n",
        "    transforms.Normalize(mean=feature_extractor.image_mean, std=feature_extractor.image_std)\n",
        "])\n",
        "\n",
        "val_test_transform = transforms.Compose([\n",
        "    transforms.Resize((224, 224)),\n",
        "    transforms.ToTensor(),\n",
        "    transforms.Normalize(mean=feature_extractor.image_mean, std=feature_extractor.image_std)\n",
        "])\n",
        "\n",
        "# Custom Dataset (Using Encoded Labels)\n",
        "class SkinCancerDataset(torch.utils.data.Dataset):\n",
        "    def __init__(self, dataframe, image_dirs, feature_extractor, transform=None):\n",
        "        self.dataframe = dataframe\n",
        "        self.image_dirs = image_dirs\n",
        "        self.feature_extractor = feature_extractor\n",
        "        self.transform = transform\n",
        "\n",
        "    def __len__(self):\n",
        "        return len(self.dataframe)\n",
        "\n",
        "    def __getitem__(self, idx):\n",
        "        row = self.dataframe.iloc[idx]\n",
        "        image_id = row['image_id']\n",
        "        # Search for the image in the provided directories\n",
        "        for directory in self.image_dirs:\n",
        "            image_path = os.path.join(directory, f\"{image_id}.jpg\")\n",
        "            if os.path.exists(image_path):\n",
        "                break\n",
        "        image = Image.open(image_path).convert(\"RGB\")\n",
        "        if self.transform:\n",
        "            image = self.transform(image)\n",
        "        # Using 'dx_encoded' as the label column\n",
        "        label = torch.tensor(row['dx_encoded'])  # Use the encoded labels\n",
        "        return image, label\n",
        "\n",
        "# Your provided stratifiedKFold class\n",
        "class stratifiedKFold:\n",
        "    def __init__(self, n_split, shuffle, random_state):\n",
        "        self.n_split = n_split\n",
        "        self.shuffle = shuffle\n",
        "        self.random_state = random_state\n",
        "\n",
        "    def split(self, X, y):\n",
        "        if (self.shuffle and self.random_state) is not None:\n",
        "            np.random.seed(self.random_state)\n",
        "\n",
        "        idx = np.arange(len(y))\n",
        "        if self.shuffle:\n",
        "            np.random.shuffle(idx)\n",
        "\n",
        "        y_idx = defaultdict(list)\n",
        "        for i, label in zip(idx, y):\n",
        "            y_idx[label].append(i)\n",
        "\n",
        "        splits = [[] for _ in range(self.n_split)]\n",
        "\n",
        "        for label, i in y_idx.items():\n",
        "            np.random.shuffle(i)\n",
        "            split_portions = [len(i) // self.n_split] * self.n_split\n",
        "            for j in range(len(i) % self.n_split):\n",
        "                split_portions[j] += 1\n",
        "\n",
        "            first = 0\n",
        "            for k in range(self.n_split):\n",
        "                last = first + split_portions[k]\n",
        "                splits[k].extend(i[first:last])\n",
        "                first = last\n",
        "\n",
        "        for i in range(self.n_split):\n",
        "            test_idx = splits[i]\n",
        "            train_idx = np.concatenate([splits[j] for j in range(self.n_split) if j != i])\n",
        "            yield train_idx, test_idx\n",
        "\n",
        "    def get_n_splits(self):\n",
        "        return self.n_split\n",
        "\n",
        "# Stratified sampling to get 30% of the data\n",
        "def stratified_sample(dataframe, labels, sample_size=0.3, random_state=42):\n",
        "    n_samples = int(sample_size * len(dataframe))\n",
        "    skf = stratifiedKFold(n_split=int(1 / sample_size), shuffle=True, random_state=random_state)\n",
        "\n",
        "    # We only need the first split for 30% sampling\n",
        "    for train_idx, test_idx in skf.split(dataframe, labels):\n",
        "        return dataframe.iloc[test_idx[:n_samples]]\n",
        "\n",
        "# Sample 30% of the data\n",
        "metadata_sample = stratified_sample(metadata, metadata['dx_encoded'], sample_size=0.3)\n",
        "\n",
        "# Reset index for the sampled data\n",
        "metadata_sample = metadata_sample.reset_index(drop=True)\n",
        "\n",
        "# Define hyperparameters to test (learning rate and attention heads)\n",
        "hyperparameters = [\n",
        "    {'lr': [1e-3, 1e-4]},\n",
        "    {'attention_heads': [8, 16]}  # Example values\n",
        "]\n",
        "\n",
        "# Training and evaluation loops with progress bar\n",
        "def train_epoch(model, train_loader, optimizer, criterion, device, epoch):\n",
        "    model.train()\n",
        "    running_loss = 0.0\n",
        "    correct = 0\n",
        "    total = 0\n",
        "\n",
        "    # Create a progress bar for batch processing\n",
        "    progress_bar = tqdm(train_loader, desc=f\"Epoch {epoch + 1} Training\", leave=False)\n",
        "\n",
        "    for batch_idx, (images, labels) in enumerate(progress_bar):\n",
        "        images, labels = images.to(device), labels.to(device)\n",
        "\n",
        "        optimizer.zero_grad()\n",
        "        outputs = model(images).logits  # logits from ViTForImageClassification\n",
        "        loss = criterion(outputs, labels)\n",
        "        loss.backward()\n",
        "        optimizer.step()\n",
        "\n",
        "        running_loss += loss.item() * images.size(0)\n",
        "        _, predicted = torch.max(outputs, 1)\n",
        "        total += labels.size(0)\n",
        "        correct += (predicted == labels).sum().item()\n",
        "\n",
        "        # Update progress bar with batch loss and accuracy\n",
        "        progress_bar.set_postfix({'Batch Loss': loss.item(), 'Batch Acc': 100 * correct / total})\n",
        "\n",
        "    # Return average loss and accuracy for the epoch\n",
        "    return running_loss / total, correct / total\n",
        "\n",
        "def eval_epoch(model, val_loader, criterion, device, epoch):\n",
        "    model.eval()\n",
        "    running_loss = 0.0\n",
        "    correct = 0\n",
        "    total = 0\n",
        "\n",
        "    # Create a progress bar for batch processing during evaluation\n",
        "    progress_bar = tqdm(val_loader, desc=f\"Epoch {epoch + 1} Validation\", leave=False)\n",
        "\n",
        "    with torch.no_grad():\n",
        "        for batch_idx, (images, labels) in enumerate(progress_bar):\n",
        "            images, labels = images.to(device), labels.to(device)\n",
        "\n",
        "            outputs = model(images).logits  # logits from ViTForImageClassification\n",
        "            loss = criterion(outputs, labels)\n",
        "\n",
        "            running_loss += loss.item() * images.size(0)\n",
        "            _, predicted = torch.max(outputs, 1)\n",
        "            total += labels.size(0)\n",
        "            correct += (predicted == labels).sum().item()\n",
        "\n",
        "            # Update progress bar with batch loss and accuracy\n",
        "            progress_bar.set_postfix({'Batch Loss': loss.item(), 'Batch Acc': 100 * correct / total})\n",
        "\n",
        "    # Return average loss and accuracy for the epoch\n",
        "    return running_loss / total, correct / total\n",
        "\n",
        "# Cross-validation function for hyperparameter tuning\n",
        "def cross_validate_hyperparameter_tuning(X, y, hyperparameters, device, total_folds=5):\n",
        "    outer_fold = stratifiedKFold(n_split=total_folds, shuffle=True, random_state=42)  # 5-fold CV for hyperparameter tuning\n",
        "    outer_results = []\n",
        "\n",
        "   # Get the product of all hyperparameter combinations\n",
        "    all_combinations = list(itertools.product(*hyperparameters.values()))\n",
        "    # Total number of combinations\n",
        "    total_combinations = len(all_combinations)\n",
        "\n",
        "    for fold, (train_idx, test_idx) in enumerate(outer_fold.split(X, y), 1):\n",
        "        X_train, X_test = X.iloc[train_idx], X.iloc[test_idx]\n",
        "        y_train, y_test = y.iloc[train_idx], y.iloc[test_idx]\n",
        "\n",
        "        # Set up hyperparameter combinations\n",
        "        param_keys = [list(d.keys())[0] for d in hyperparameters]\n",
        "        param_values = [list(d.values())[0] for d in hyperparameters]\n",
        "        combinations = product(*param_values)\n",
        "        hyper_combo = [{param_keys[i]: combo[i] for i in range(len(param_keys))} for combo in combinations]\n",
        "\n",
        "        print(f\"\\n=== Fold {fold}/{total_folds} ===\")\n",
        "\n",
        "        for combo_num, param in enumerate(hyper_combo, 1):\n",
        "            LEARNING_RATE = param['lr']\n",
        "            ATTENTION_HEADS = param['attention_heads']\n",
        "\n",
        "            # Initialize the model with current hyperparameters\n",
        "            model = ViTForImageClassification.from_pretrained(MODEL_NAME, num_labels=len(label_encoder.classes_), num_attention_heads=ATTENTION_HEADS)\n",
        "            model.to(device)\n",
        "            optimizer = optim.AdamW(model.parameters(), lr=LEARNING_RATE)\n",
        "            criterion = nn.CrossEntropyLoss()\n",
        "\n",
        "            best_val_loss = np.inf\n",
        "            epochs_no_improve = 0  # Early stopping counter\n",
        "\n",
        "            print(f\"Starting hyperparameter combination {combo_num}/{total_combinations}: lr={LEARNING_RATE}, attention_heads={ATTENTION_HEADS}\")\n",
        "\n",
        "            # Train on inner folds with early stopping\n",
        "            for epoch in range(EPOCHS):\n",
        "                # Create datasets\n",
        "                train_dataset = SkinCancerDataset(X_train, IMAGE_DIRS, feature_extractor, transform=train_transform)\n",
        "                val_dataset = SkinCancerDataset(X_test, IMAGE_DIRS, feature_extractor, transform=val_test_transform)\n",
        "\n",
        "                train_loader = DataLoader(train_dataset, batch_size=BATCH_SIZE, shuffle=True)\n",
        "                val_loader = DataLoader(val_dataset, batch_size=BATCH_SIZE, shuffle=False)\n",
        "\n",
        "                train_loss, train_acc = train_epoch(model, train_loader, optimizer, criterion, device, epoch)\n",
        "                val_loss, val_acc = eval_epoch(model, val_loader, criterion, device, epoch)\n",
        "\n",
        "                # Print progress for each epoch\n",
        "                print(f'Epoch {epoch + 1}/{EPOCHS} (Fold {fold}, Combo {combo_num}): Train Loss: {train_loss:.4f}, Train Acc: {train_acc*100:.2f}%, '\n",
        "                      f'Val Loss: {val_loss:.4f}, Val Acc: {val_acc*100:.2f}%')\n",
        "\n",
        "                # Check if validation loss improved\n",
        "                if val_loss < best_val_loss:\n",
        "                    best_val_loss = val_loss\n",
        "                    epochs_no_improve = 0  # Reset counter if validation improves\n",
        "                else:\n",
        "                    epochs_no_improve += 1\n",
        "\n",
        "                # Early stopping if no improvement for PATIENCE epochs\n",
        "                if epochs_no_improve == PATIENCE:\n",
        "                    print(f\"Early stopping at epoch {epoch + 1} (Fold {fold}, Combo {combo_num})\")\n",
        "                    break\n",
        "\n",
        "            # Store results for the fold and combination\n",
        "            outer_results.append((param, val_acc))\n",
        "\n",
        "            # Print progress for hyperparameter tuning\n",
        "            print(f\"Completed {combo_num}/{total_combinations} hyperparameter combinations for Fold {fold}\")\n",
        "\n",
        "    return outer_results\n",
        "\n",
        "# Hyperparameters to test (learning rate and attention heads)\n",
        "hyperparameters = [\n",
        "    {'lr': [1e-3, 1e-4]},\n",
        "    {'attention_heads': [8, 16]}  # Example values\n",
        "]"
      ],
      "metadata": {
        "colab": {
          "base_uri": "https://localhost:8080/"
        },
        "id": "LIvNuQjBQnCw",
        "outputId": "092e745c-2af4-4c4b-e717-ae0b27708ded"
      },
      "execution_count": 1,
      "outputs": [
        {
          "output_type": "stream",
          "name": "stderr",
          "text": [
            "/usr/local/lib/python3.10/dist-packages/huggingface_hub/utils/_token.py:89: UserWarning: \n",
            "The secret `HF_TOKEN` does not exist in your Colab secrets.\n",
            "To authenticate with the Hugging Face Hub, create a token in your settings tab (https://huggingface.co/settings/tokens), set it as secret in your Google Colab and restart your session.\n",
            "You will be able to reuse this secret in all of your notebooks.\n",
            "Please note that authentication is recommended but still optional to access public models or datasets.\n",
            "  warnings.warn(\n",
            "/usr/local/lib/python3.10/dist-packages/transformers/models/vit/feature_extraction_vit.py:28: FutureWarning: The class ViTFeatureExtractor is deprecated and will be removed in version 5 of Transformers. Please use ViTImageProcessor instead.\n",
            "  warnings.warn(\n"
          ]
        }
      ]
    },
    {
      "cell_type": "code",
      "source": [
        "\n",
        "\n",
        "# Running hyperparameter tuning with progress tracking\n",
        "results_tuning = cross_validate_hyperparameter_tuning(metadata, metadata['dx_encoded'], hyperparameters, device)\n",
        "\n",
        "# Output the best hyperparameters and accuracy\n",
        "best_result = max(results_tuning, key=lambda x: x[1])\n",
        "print(\"Best Hyperparameters:\", best_result[0])\n",
        "print(\"Best Accuracy:\", best_result[1])\n"
      ],
      "metadata": {
        "colab": {
          "base_uri": "https://localhost:8080/"
        },
        "id": "SjrWnFKuuMh9",
        "outputId": "e5a03ee1-78ba-4b37-b5a9-864a78191b3e"
      },
      "execution_count": 1,
      "outputs": [
        {
          "output_type": "stream",
          "name": "stderr",
          "text": [
            "/usr/local/lib/python3.10/dist-packages/huggingface_hub/utils/_token.py:89: UserWarning: \n",
            "The secret `HF_TOKEN` does not exist in your Colab secrets.\n",
            "To authenticate with the Hugging Face Hub, create a token in your settings tab (https://huggingface.co/settings/tokens), set it as secret in your Google Colab and restart your session.\n",
            "You will be able to reuse this secret in all of your notebooks.\n",
            "Please note that authentication is recommended but still optional to access public models or datasets.\n",
            "  warnings.warn(\n",
            "/usr/local/lib/python3.10/dist-packages/transformers/models/vit/feature_extraction_vit.py:28: FutureWarning: The class ViTFeatureExtractor is deprecated and will be removed in version 5 of Transformers. Please use ViTImageProcessor instead.\n",
            "  warnings.warn(\n"
          ]
        },
        {
          "output_type": "stream",
          "name": "stdout",
          "text": [
            "\n",
            "=== Fold 1/5 ===\n"
          ]
        },
        {
          "output_type": "stream",
          "name": "stderr",
          "text": [
            "Some weights of ViTForImageClassification were not initialized from the model checkpoint at google/vit-base-patch32-224-in21k and are newly initialized: ['classifier.bias', 'classifier.weight']\n",
            "You should probably TRAIN this model on a down-stream task to be able to use it for predictions and inference.\n"
          ]
        },
        {
          "output_type": "stream",
          "name": "stdout",
          "text": [
            "Starting hyperparameter combination 1/2: lr=0.001, attention_heads=8\n"
          ]
        },
        {
          "output_type": "stream",
          "name": "stderr",
          "text": []
        },
        {
          "output_type": "stream",
          "name": "stdout",
          "text": [
            "Epoch 1/10 (Fold 1, Combo 1): Train Loss: 1.0969, Train Acc: 64.84%, Val Loss: 0.9243, Val Acc: 65.94%\n"
          ]
        },
        {
          "output_type": "stream",
          "name": "stderr",
          "text": []
        },
        {
          "output_type": "stream",
          "name": "stdout",
          "text": [
            "Epoch 2/10 (Fold 1, Combo 1): Train Loss: 0.9096, Train Acc: 67.64%, Val Loss: 0.9243, Val Acc: 63.44%\n"
          ]
        },
        {
          "output_type": "stream",
          "name": "stderr",
          "text": []
        },
        {
          "output_type": "stream",
          "name": "stdout",
          "text": [
            "Epoch 3/10 (Fold 1, Combo 1): Train Loss: 0.8834, Train Acc: 67.89%, Val Loss: 0.8436, Val Acc: 68.28%\n"
          ]
        },
        {
          "output_type": "stream",
          "name": "stderr",
          "text": []
        },
        {
          "output_type": "stream",
          "name": "stdout",
          "text": [
            "Epoch 4/10 (Fold 1, Combo 1): Train Loss: 0.8425, Train Acc: 68.81%, Val Loss: 0.8167, Val Acc: 69.18%\n"
          ]
        },
        {
          "output_type": "stream",
          "name": "stderr",
          "text": []
        },
        {
          "output_type": "stream",
          "name": "stdout",
          "text": [
            "Epoch 5/10 (Fold 1, Combo 1): Train Loss: 0.7818, Train Acc: 71.02%, Val Loss: 0.7402, Val Acc: 71.02%\n"
          ]
        },
        {
          "output_type": "stream",
          "name": "stderr",
          "text": []
        },
        {
          "output_type": "stream",
          "name": "stdout",
          "text": [
            "Epoch 6/10 (Fold 1, Combo 1): Train Loss: 0.7648, Train Acc: 71.45%, Val Loss: 0.7554, Val Acc: 70.72%\n"
          ]
        },
        {
          "output_type": "stream",
          "name": "stderr",
          "text": []
        },
        {
          "output_type": "stream",
          "name": "stdout",
          "text": [
            "Epoch 7/10 (Fold 1, Combo 1): Train Loss: 0.7196, Train Acc: 72.61%, Val Loss: 0.7009, Val Acc: 73.67%\n"
          ]
        },
        {
          "output_type": "stream",
          "name": "stderr",
          "text": []
        },
        {
          "output_type": "stream",
          "name": "stdout",
          "text": [
            "Epoch 8/10 (Fold 1, Combo 1): Train Loss: 0.7071, Train Acc: 73.13%, Val Loss: 0.7203, Val Acc: 72.17%\n"
          ]
        },
        {
          "output_type": "stream",
          "name": "stderr",
          "text": []
        },
        {
          "output_type": "stream",
          "name": "stdout",
          "text": [
            "Epoch 9/10 (Fold 1, Combo 1): Train Loss: 0.6921, Train Acc: 73.88%, Val Loss: 0.6849, Val Acc: 74.06%\n"
          ]
        },
        {
          "output_type": "stream",
          "name": "stderr",
          "text": []
        },
        {
          "output_type": "stream",
          "name": "stdout",
          "text": [
            "Epoch 10/10 (Fold 1, Combo 1): Train Loss: 0.6658, Train Acc: 75.44%, Val Loss: 0.6924, Val Acc: 73.97%\n",
            "Completed 1/2 hyperparameter combinations for Fold 1\n"
          ]
        },
        {
          "output_type": "stream",
          "name": "stderr",
          "text": [
            "Some weights of ViTForImageClassification were not initialized from the model checkpoint at google/vit-base-patch32-224-in21k and are newly initialized: ['classifier.bias', 'classifier.weight']\n",
            "You should probably TRAIN this model on a down-stream task to be able to use it for predictions and inference.\n"
          ]
        },
        {
          "output_type": "stream",
          "name": "stdout",
          "text": [
            "Starting hyperparameter combination 2/2: lr=0.001, attention_heads=16\n"
          ]
        },
        {
          "output_type": "stream",
          "name": "stderr",
          "text": []
        },
        {
          "output_type": "stream",
          "name": "stdout",
          "text": [
            "Epoch 1/10 (Fold 1, Combo 2): Train Loss: 1.0986, Train Acc: 64.97%, Val Loss: 0.9579, Val Acc: 66.98%\n"
          ]
        },
        {
          "output_type": "stream",
          "name": "stderr",
          "text": []
        },
        {
          "output_type": "stream",
          "name": "stdout",
          "text": [
            "Epoch 2/10 (Fold 1, Combo 2): Train Loss: 0.9239, Train Acc: 67.57%, Val Loss: 0.9656, Val Acc: 68.08%\n"
          ]
        },
        {
          "output_type": "stream",
          "name": "stderr",
          "text": []
        },
        {
          "output_type": "stream",
          "name": "stdout",
          "text": [
            "Epoch 3/10 (Fold 1, Combo 2): Train Loss: 0.8905, Train Acc: 67.93%, Val Loss: 0.8446, Val Acc: 68.68%\n"
          ]
        },
        {
          "output_type": "stream",
          "name": "stderr",
          "text": []
        },
        {
          "output_type": "stream",
          "name": "stdout",
          "text": [
            "Epoch 4/10 (Fold 1, Combo 2): Train Loss: 0.8105, Train Acc: 70.12%, Val Loss: 0.9062, Val Acc: 69.68%\n"
          ]
        },
        {
          "output_type": "stream",
          "name": "stderr",
          "text": []
        },
        {
          "output_type": "stream",
          "name": "stdout",
          "text": [
            "Epoch 5/10 (Fold 1, Combo 2): Train Loss: 0.7722, Train Acc: 71.74%, Val Loss: 0.7595, Val Acc: 71.12%\n"
          ]
        },
        {
          "output_type": "stream",
          "name": "stderr",
          "text": []
        },
        {
          "output_type": "stream",
          "name": "stdout",
          "text": [
            "Epoch 6/10 (Fold 1, Combo 2): Train Loss: 0.7258, Train Acc: 73.11%, Val Loss: 0.7073, Val Acc: 72.82%\n"
          ]
        },
        {
          "output_type": "stream",
          "name": "stderr",
          "text": []
        },
        {
          "output_type": "stream",
          "name": "stdout",
          "text": [
            "Epoch 7/10 (Fold 1, Combo 2): Train Loss: 0.6935, Train Acc: 74.00%, Val Loss: 0.7000, Val Acc: 73.17%\n"
          ]
        },
        {
          "output_type": "stream",
          "name": "stderr",
          "text": []
        },
        {
          "output_type": "stream",
          "name": "stdout",
          "text": [
            "Epoch 8/10 (Fold 1, Combo 2): Train Loss: 0.6821, Train Acc: 73.90%, Val Loss: 0.7109, Val Acc: 73.32%\n"
          ]
        },
        {
          "output_type": "stream",
          "name": "stderr",
          "text": []
        },
        {
          "output_type": "stream",
          "name": "stdout",
          "text": [
            "Epoch 9/10 (Fold 1, Combo 2): Train Loss: 0.6544, Train Acc: 75.48%, Val Loss: 0.7061, Val Acc: 73.57%\n"
          ]
        },
        {
          "output_type": "stream",
          "name": "stderr",
          "text": []
        },
        {
          "output_type": "stream",
          "name": "stdout",
          "text": [
            "Epoch 10/10 (Fold 1, Combo 2): Train Loss: 0.6459, Train Acc: 75.94%, Val Loss: 0.6730, Val Acc: 76.51%\n",
            "Completed 2/2 hyperparameter combinations for Fold 1\n"
          ]
        },
        {
          "output_type": "stream",
          "name": "stderr",
          "text": [
            "Some weights of ViTForImageClassification were not initialized from the model checkpoint at google/vit-base-patch32-224-in21k and are newly initialized: ['classifier.bias', 'classifier.weight']\n",
            "You should probably TRAIN this model on a down-stream task to be able to use it for predictions and inference.\n"
          ]
        },
        {
          "output_type": "stream",
          "name": "stdout",
          "text": [
            "Starting hyperparameter combination 3/2: lr=0.0001, attention_heads=8\n"
          ]
        },
        {
          "output_type": "stream",
          "name": "stderr",
          "text": []
        },
        {
          "output_type": "stream",
          "name": "stdout",
          "text": [
            "Epoch 1/10 (Fold 1, Combo 3): Train Loss: 1.0708, Train Acc: 67.64%, Val Loss: 0.9009, Val Acc: 69.53%\n"
          ]
        },
        {
          "output_type": "stream",
          "name": "stderr",
          "text": []
        },
        {
          "output_type": "stream",
          "name": "stdout",
          "text": [
            "Epoch 2/10 (Fold 1, Combo 3): Train Loss: 0.7639, Train Acc: 74.71%, Val Loss: 0.7300, Val Acc: 75.16%\n"
          ]
        },
        {
          "output_type": "stream",
          "name": "stderr",
          "text": []
        },
        {
          "output_type": "stream",
          "name": "stdout",
          "text": [
            "Epoch 3/10 (Fold 1, Combo 3): Train Loss: 0.6344, Train Acc: 79.03%, Val Loss: 0.6260, Val Acc: 79.40%\n"
          ]
        },
        {
          "output_type": "stream",
          "name": "stderr",
          "text": []
        },
        {
          "output_type": "stream",
          "name": "stdout",
          "text": [
            "Epoch 4/10 (Fold 1, Combo 3): Train Loss: 0.5362, Train Acc: 82.57%, Val Loss: 0.5690, Val Acc: 81.25%\n"
          ]
        },
        {
          "output_type": "stream",
          "name": "stderr",
          "text": []
        },
        {
          "output_type": "stream",
          "name": "stdout",
          "text": [
            "Epoch 5/10 (Fold 1, Combo 3): Train Loss: 0.4619, Train Acc: 85.23%, Val Loss: 0.5004, Val Acc: 82.19%\n"
          ]
        },
        {
          "output_type": "stream",
          "name": "stderr",
          "text": []
        },
        {
          "output_type": "stream",
          "name": "stdout",
          "text": [
            "Epoch 6/10 (Fold 1, Combo 3): Train Loss: 0.3936, Train Acc: 87.39%, Val Loss: 0.5066, Val Acc: 82.59%\n"
          ]
        },
        {
          "output_type": "stream",
          "name": "stderr",
          "text": []
        },
        {
          "output_type": "stream",
          "name": "stdout",
          "text": [
            "Epoch 7/10 (Fold 1, Combo 3): Train Loss: 0.3361, Train Acc: 89.10%, Val Loss: 0.5344, Val Acc: 82.44%\n"
          ]
        },
        {
          "output_type": "stream",
          "name": "stderr",
          "text": []
        },
        {
          "output_type": "stream",
          "name": "stdout",
          "text": [
            "Epoch 8/10 (Fold 1, Combo 3): Train Loss: 0.2934, Train Acc: 90.80%, Val Loss: 0.4833, Val Acc: 83.69%\n"
          ]
        },
        {
          "output_type": "stream",
          "name": "stderr",
          "text": []
        },
        {
          "output_type": "stream",
          "name": "stdout",
          "text": [
            "Epoch 9/10 (Fold 1, Combo 3): Train Loss: 0.2293, Train Acc: 92.62%, Val Loss: 0.4725, Val Acc: 85.14%\n"
          ]
        },
        {
          "output_type": "stream",
          "name": "stderr",
          "text": []
        },
        {
          "output_type": "stream",
          "name": "stdout",
          "text": [
            "Epoch 10/10 (Fold 1, Combo 3): Train Loss: 0.2132, Train Acc: 93.36%, Val Loss: 0.4924, Val Acc: 82.44%\n",
            "Completed 3/2 hyperparameter combinations for Fold 1\n"
          ]
        },
        {
          "output_type": "stream",
          "name": "stderr",
          "text": [
            "Some weights of ViTForImageClassification were not initialized from the model checkpoint at google/vit-base-patch32-224-in21k and are newly initialized: ['classifier.bias', 'classifier.weight']\n",
            "You should probably TRAIN this model on a down-stream task to be able to use it for predictions and inference.\n"
          ]
        },
        {
          "output_type": "stream",
          "name": "stdout",
          "text": [
            "Starting hyperparameter combination 4/2: lr=0.0001, attention_heads=16\n"
          ]
        },
        {
          "output_type": "stream",
          "name": "stderr",
          "text": []
        },
        {
          "output_type": "stream",
          "name": "stdout",
          "text": [
            "Epoch 1/10 (Fold 1, Combo 4): Train Loss: 1.0629, Train Acc: 66.42%, Val Loss: 0.8846, Val Acc: 69.98%\n"
          ]
        },
        {
          "output_type": "stream",
          "name": "stderr",
          "text": []
        },
        {
          "output_type": "stream",
          "name": "stdout",
          "text": [
            "Epoch 2/10 (Fold 1, Combo 4): Train Loss: 0.7324, Train Acc: 76.48%, Val Loss: 0.7319, Val Acc: 75.01%\n"
          ]
        },
        {
          "output_type": "stream",
          "name": "stderr",
          "text": []
        },
        {
          "output_type": "stream",
          "name": "stdout",
          "text": [
            "Epoch 3/10 (Fold 1, Combo 4): Train Loss: 0.6077, Train Acc: 80.07%, Val Loss: 0.5860, Val Acc: 80.45%\n"
          ]
        },
        {
          "output_type": "stream",
          "name": "stderr",
          "text": []
        },
        {
          "output_type": "stream",
          "name": "stdout",
          "text": [
            "Epoch 4/10 (Fold 1, Combo 4): Train Loss: 0.5176, Train Acc: 83.38%, Val Loss: 0.5895, Val Acc: 80.20%\n"
          ]
        },
        {
          "output_type": "stream",
          "name": "stderr",
          "text": []
        },
        {
          "output_type": "stream",
          "name": "stdout",
          "text": [
            "Epoch 5/10 (Fold 1, Combo 4): Train Loss: 0.4227, Train Acc: 86.55%, Val Loss: 0.5069, Val Acc: 82.94%\n"
          ]
        },
        {
          "output_type": "stream",
          "name": "stderr",
          "text": []
        },
        {
          "output_type": "stream",
          "name": "stdout",
          "text": [
            "Epoch 6/10 (Fold 1, Combo 4): Train Loss: 0.3670, Train Acc: 88.78%, Val Loss: 0.5216, Val Acc: 82.74%\n"
          ]
        },
        {
          "output_type": "stream",
          "name": "stderr",
          "text": []
        },
        {
          "output_type": "stream",
          "name": "stdout",
          "text": [
            "Epoch 7/10 (Fold 1, Combo 4): Train Loss: 0.2963, Train Acc: 90.99%, Val Loss: 0.4909, Val Acc: 83.54%\n"
          ]
        },
        {
          "output_type": "stream",
          "name": "stderr",
          "text": []
        },
        {
          "output_type": "stream",
          "name": "stdout",
          "text": [
            "Epoch 8/10 (Fold 1, Combo 4): Train Loss: 0.2710, Train Acc: 91.60%, Val Loss: 0.4465, Val Acc: 84.94%\n"
          ]
        },
        {
          "output_type": "stream",
          "name": "stderr",
          "text": []
        },
        {
          "output_type": "stream",
          "name": "stdout",
          "text": [
            "Epoch 9/10 (Fold 1, Combo 4): Train Loss: 0.2017, Train Acc: 94.19%, Val Loss: 0.4498, Val Acc: 84.94%\n"
          ]
        },
        {
          "output_type": "stream",
          "name": "stderr",
          "text": []
        },
        {
          "output_type": "stream",
          "name": "stdout",
          "text": [
            "Epoch 10/10 (Fold 1, Combo 4): Train Loss: 0.1704, Train Acc: 95.13%, Val Loss: 0.4804, Val Acc: 85.44%\n",
            "Completed 4/2 hyperparameter combinations for Fold 1\n",
            "\n",
            "=== Fold 2/5 ===\n"
          ]
        },
        {
          "output_type": "stream",
          "name": "stderr",
          "text": [
            "Some weights of ViTForImageClassification were not initialized from the model checkpoint at google/vit-base-patch32-224-in21k and are newly initialized: ['classifier.bias', 'classifier.weight']\n",
            "You should probably TRAIN this model on a down-stream task to be able to use it for predictions and inference.\n"
          ]
        },
        {
          "output_type": "stream",
          "name": "stdout",
          "text": [
            "Starting hyperparameter combination 1/2: lr=0.001, attention_heads=8\n"
          ]
        },
        {
          "output_type": "stream",
          "name": "stderr",
          "text": []
        },
        {
          "output_type": "stream",
          "name": "stdout",
          "text": [
            "Epoch 1/10 (Fold 2, Combo 1): Train Loss: 1.1347, Train Acc: 65.06%, Val Loss: 1.0290, Val Acc: 67.08%\n"
          ]
        },
        {
          "output_type": "stream",
          "name": "stderr",
          "text": []
        },
        {
          "output_type": "stream",
          "name": "stdout",
          "text": [
            "Epoch 2/10 (Fold 2, Combo 1): Train Loss: 0.9746, Train Acc: 67.13%, Val Loss: 0.9296, Val Acc: 67.28%\n"
          ]
        },
        {
          "output_type": "stream",
          "name": "stderr",
          "text": []
        },
        {
          "output_type": "stream",
          "name": "stdout",
          "text": [
            "Epoch 3/10 (Fold 2, Combo 1): Train Loss: 0.9005, Train Acc: 67.55%, Val Loss: 0.9011, Val Acc: 68.23%\n"
          ]
        },
        {
          "output_type": "stream",
          "name": "stderr",
          "text": []
        },
        {
          "output_type": "stream",
          "name": "stdout",
          "text": [
            "Epoch 4/10 (Fold 2, Combo 1): Train Loss: 0.8569, Train Acc: 68.38%, Val Loss: 0.8751, Val Acc: 69.28%\n"
          ]
        },
        {
          "output_type": "stream",
          "name": "stderr",
          "text": []
        },
        {
          "output_type": "stream",
          "name": "stdout",
          "text": [
            "Epoch 5/10 (Fold 2, Combo 1): Train Loss: 0.8262, Train Acc: 69.08%, Val Loss: 0.8643, Val Acc: 67.63%\n"
          ]
        },
        {
          "output_type": "stream",
          "name": "stderr",
          "text": []
        },
        {
          "output_type": "stream",
          "name": "stdout",
          "text": [
            "Epoch 6/10 (Fold 2, Combo 1): Train Loss: 0.8056, Train Acc: 69.74%, Val Loss: 0.8420, Val Acc: 70.27%\n"
          ]
        },
        {
          "output_type": "stream",
          "name": "stderr",
          "text": []
        },
        {
          "output_type": "stream",
          "name": "stdout",
          "text": [
            "Epoch 7/10 (Fold 2, Combo 1): Train Loss: 0.7768, Train Acc: 70.87%, Val Loss: 0.7753, Val Acc: 70.67%\n"
          ]
        },
        {
          "output_type": "stream",
          "name": "stderr",
          "text": []
        },
        {
          "output_type": "stream",
          "name": "stdout",
          "text": [
            "Epoch 8/10 (Fold 2, Combo 1): Train Loss: 0.7509, Train Acc: 71.34%, Val Loss: 0.7616, Val Acc: 71.02%\n"
          ]
        },
        {
          "output_type": "stream",
          "name": "stderr",
          "text": []
        },
        {
          "output_type": "stream",
          "name": "stdout",
          "text": [
            "Epoch 9/10 (Fold 2, Combo 1): Train Loss: 0.7177, Train Acc: 72.70%, Val Loss: 0.7351, Val Acc: 71.77%\n"
          ]
        },
        {
          "output_type": "stream",
          "name": "stderr",
          "text": []
        },
        {
          "output_type": "stream",
          "name": "stdout",
          "text": [
            "Epoch 10/10 (Fold 2, Combo 1): Train Loss: 0.7003, Train Acc: 73.21%, Val Loss: 0.7630, Val Acc: 71.62%\n",
            "Completed 1/2 hyperparameter combinations for Fold 2\n"
          ]
        },
        {
          "output_type": "stream",
          "name": "stderr",
          "text": [
            "Some weights of ViTForImageClassification were not initialized from the model checkpoint at google/vit-base-patch32-224-in21k and are newly initialized: ['classifier.bias', 'classifier.weight']\n",
            "You should probably TRAIN this model on a down-stream task to be able to use it for predictions and inference.\n"
          ]
        },
        {
          "output_type": "stream",
          "name": "stdout",
          "text": [
            "Starting hyperparameter combination 2/2: lr=0.001, attention_heads=16\n"
          ]
        },
        {
          "output_type": "stream",
          "name": "stderr",
          "text": []
        },
        {
          "output_type": "stream",
          "name": "stdout",
          "text": [
            "Epoch 1/10 (Fold 2, Combo 2): Train Loss: 1.0940, Train Acc: 65.08%, Val Loss: 0.9707, Val Acc: 67.03%\n"
          ]
        },
        {
          "output_type": "stream",
          "name": "stderr",
          "text": []
        },
        {
          "output_type": "stream",
          "name": "stdout",
          "text": [
            "Epoch 2/10 (Fold 2, Combo 2): Train Loss: 0.8995, Train Acc: 67.74%, Val Loss: 0.8844, Val Acc: 67.78%\n"
          ]
        },
        {
          "output_type": "stream",
          "name": "stderr",
          "text": []
        },
        {
          "output_type": "stream",
          "name": "stdout",
          "text": [
            "Epoch 3/10 (Fold 2, Combo 2): Train Loss: 0.8339, Train Acc: 69.23%, Val Loss: 0.8298, Val Acc: 69.53%\n"
          ]
        },
        {
          "output_type": "stream",
          "name": "stderr",
          "text": []
        },
        {
          "output_type": "stream",
          "name": "stdout",
          "text": [
            "Epoch 4/10 (Fold 2, Combo 2): Train Loss: 0.7965, Train Acc: 69.75%, Val Loss: 0.7915, Val Acc: 71.02%\n"
          ]
        },
        {
          "output_type": "stream",
          "name": "stderr",
          "text": []
        },
        {
          "output_type": "stream",
          "name": "stdout",
          "text": [
            "Epoch 5/10 (Fold 2, Combo 2): Train Loss: 0.7469, Train Acc: 71.95%, Val Loss: 0.7610, Val Acc: 72.02%\n"
          ]
        },
        {
          "output_type": "stream",
          "name": "stderr",
          "text": []
        },
        {
          "output_type": "stream",
          "name": "stdout",
          "text": [
            "Epoch 6/10 (Fold 2, Combo 2): Train Loss: 0.7121, Train Acc: 72.93%, Val Loss: 0.7502, Val Acc: 71.37%\n"
          ]
        },
        {
          "output_type": "stream",
          "name": "stderr",
          "text": []
        },
        {
          "output_type": "stream",
          "name": "stdout",
          "text": [
            "Epoch 7/10 (Fold 2, Combo 2): Train Loss: 0.6684, Train Acc: 74.82%, Val Loss: 0.7229, Val Acc: 73.67%\n"
          ]
        },
        {
          "output_type": "stream",
          "name": "stderr",
          "text": []
        },
        {
          "output_type": "stream",
          "name": "stdout",
          "text": [
            "Epoch 8/10 (Fold 2, Combo 2): Train Loss: 0.6875, Train Acc: 73.97%, Val Loss: 0.6969, Val Acc: 73.97%\n"
          ]
        },
        {
          "output_type": "stream",
          "name": "stderr",
          "text": []
        },
        {
          "output_type": "stream",
          "name": "stdout",
          "text": [
            "Epoch 9/10 (Fold 2, Combo 2): Train Loss: 0.6580, Train Acc: 75.14%, Val Loss: 0.7306, Val Acc: 73.37%\n"
          ]
        },
        {
          "output_type": "stream",
          "name": "stderr",
          "text": []
        },
        {
          "output_type": "stream",
          "name": "stdout",
          "text": [
            "Epoch 10/10 (Fold 2, Combo 2): Train Loss: 0.6357, Train Acc: 75.94%, Val Loss: 0.6897, Val Acc: 75.16%\n",
            "Completed 2/2 hyperparameter combinations for Fold 2\n"
          ]
        },
        {
          "output_type": "stream",
          "name": "stderr",
          "text": [
            "Some weights of ViTForImageClassification were not initialized from the model checkpoint at google/vit-base-patch32-224-in21k and are newly initialized: ['classifier.bias', 'classifier.weight']\n",
            "You should probably TRAIN this model on a down-stream task to be able to use it for predictions and inference.\n"
          ]
        },
        {
          "output_type": "stream",
          "name": "stdout",
          "text": [
            "Starting hyperparameter combination 3/2: lr=0.0001, attention_heads=8\n"
          ]
        },
        {
          "output_type": "stream",
          "name": "stderr",
          "text": []
        },
        {
          "output_type": "stream",
          "name": "stdout",
          "text": [
            "Epoch 1/10 (Fold 2, Combo 3): Train Loss: 1.0795, Train Acc: 66.50%, Val Loss: 0.8557, Val Acc: 71.57%\n"
          ]
        },
        {
          "output_type": "stream",
          "name": "stderr",
          "text": []
        },
        {
          "output_type": "stream",
          "name": "stdout",
          "text": [
            "Epoch 2/10 (Fold 2, Combo 3): Train Loss: 0.7668, Train Acc: 74.73%, Val Loss: 0.7163, Val Acc: 76.06%\n"
          ]
        },
        {
          "output_type": "stream",
          "name": "stderr",
          "text": []
        },
        {
          "output_type": "stream",
          "name": "stdout",
          "text": [
            "Epoch 3/10 (Fold 2, Combo 3): Train Loss: 0.6342, Train Acc: 78.93%, Val Loss: 0.6439, Val Acc: 78.20%\n"
          ]
        },
        {
          "output_type": "stream",
          "name": "stderr",
          "text": []
        },
        {
          "output_type": "stream",
          "name": "stdout",
          "text": [
            "Epoch 4/10 (Fold 2, Combo 3): Train Loss: 0.5227, Train Acc: 82.87%, Val Loss: 0.6065, Val Acc: 79.00%\n"
          ]
        },
        {
          "output_type": "stream",
          "name": "stderr",
          "text": []
        },
        {
          "output_type": "stream",
          "name": "stdout",
          "text": [
            "Epoch 5/10 (Fold 2, Combo 3): Train Loss: 0.4687, Train Acc: 84.51%, Val Loss: 0.5524, Val Acc: 80.95%\n"
          ]
        },
        {
          "output_type": "stream",
          "name": "stderr",
          "text": []
        },
        {
          "output_type": "stream",
          "name": "stdout",
          "text": [
            "Epoch 6/10 (Fold 2, Combo 3): Train Loss: 0.4003, Train Acc: 87.03%, Val Loss: 0.5141, Val Acc: 82.59%\n"
          ]
        },
        {
          "output_type": "stream",
          "name": "stderr",
          "text": []
        },
        {
          "output_type": "stream",
          "name": "stdout",
          "text": [
            "Epoch 7/10 (Fold 2, Combo 3): Train Loss: 0.3473, Train Acc: 88.81%, Val Loss: 0.5192, Val Acc: 82.54%\n"
          ]
        },
        {
          "output_type": "stream",
          "name": "stderr",
          "text": []
        },
        {
          "output_type": "stream",
          "name": "stdout",
          "text": [
            "Epoch 8/10 (Fold 2, Combo 3): Train Loss: 0.2888, Train Acc: 91.06%, Val Loss: 0.4862, Val Acc: 83.59%\n"
          ]
        },
        {
          "output_type": "stream",
          "name": "stderr",
          "text": []
        },
        {
          "output_type": "stream",
          "name": "stdout",
          "text": [
            "Epoch 9/10 (Fold 2, Combo 3): Train Loss: 0.2545, Train Acc: 92.13%, Val Loss: 0.4833, Val Acc: 83.34%\n"
          ]
        },
        {
          "output_type": "stream",
          "name": "stderr",
          "text": []
        },
        {
          "output_type": "stream",
          "name": "stdout",
          "text": [
            "Epoch 10/10 (Fold 2, Combo 3): Train Loss: 0.2164, Train Acc: 93.75%, Val Loss: 0.4883, Val Acc: 83.69%\n",
            "Completed 3/2 hyperparameter combinations for Fold 2\n"
          ]
        },
        {
          "output_type": "stream",
          "name": "stderr",
          "text": [
            "Some weights of ViTForImageClassification were not initialized from the model checkpoint at google/vit-base-patch32-224-in21k and are newly initialized: ['classifier.bias', 'classifier.weight']\n",
            "You should probably TRAIN this model on a down-stream task to be able to use it for predictions and inference.\n"
          ]
        },
        {
          "output_type": "stream",
          "name": "stdout",
          "text": [
            "Starting hyperparameter combination 4/2: lr=0.0001, attention_heads=16\n"
          ]
        },
        {
          "output_type": "stream",
          "name": "stderr",
          "text": []
        },
        {
          "output_type": "stream",
          "name": "stdout",
          "text": [
            "Epoch 1/10 (Fold 2, Combo 4): Train Loss: 1.0817, Train Acc: 66.50%, Val Loss: 0.8614, Val Acc: 72.02%\n"
          ]
        },
        {
          "output_type": "stream",
          "name": "stderr",
          "text": []
        },
        {
          "output_type": "stream",
          "name": "stdout",
          "text": [
            "Epoch 2/10 (Fold 2, Combo 4): Train Loss: 0.7749, Train Acc: 73.91%, Val Loss: 0.8261, Val Acc: 68.98%\n"
          ]
        },
        {
          "output_type": "stream",
          "name": "stderr",
          "text": []
        },
        {
          "output_type": "stream",
          "name": "stdout",
          "text": [
            "Epoch 3/10 (Fold 2, Combo 4): Train Loss: 0.6340, Train Acc: 79.01%, Val Loss: 0.6147, Val Acc: 78.95%\n"
          ]
        },
        {
          "output_type": "stream",
          "name": "stderr",
          "text": []
        },
        {
          "output_type": "stream",
          "name": "stdout",
          "text": [
            "Epoch 4/10 (Fold 2, Combo 4): Train Loss: 0.5173, Train Acc: 83.62%, Val Loss: 0.5875, Val Acc: 79.95%\n"
          ]
        },
        {
          "output_type": "stream",
          "name": "stderr",
          "text": []
        },
        {
          "output_type": "stream",
          "name": "stdout",
          "text": [
            "Epoch 5/10 (Fold 2, Combo 4): Train Loss: 0.4447, Train Acc: 85.77%, Val Loss: 0.5858, Val Acc: 78.85%\n"
          ]
        },
        {
          "output_type": "stream",
          "name": "stderr",
          "text": []
        },
        {
          "output_type": "stream",
          "name": "stdout",
          "text": [
            "Epoch 6/10 (Fold 2, Combo 4): Train Loss: 0.3767, Train Acc: 88.05%, Val Loss: 0.4713, Val Acc: 83.94%\n"
          ]
        },
        {
          "output_type": "stream",
          "name": "stderr",
          "text": []
        },
        {
          "output_type": "stream",
          "name": "stdout",
          "text": [
            "Epoch 7/10 (Fold 2, Combo 4): Train Loss: 0.3003, Train Acc: 90.91%, Val Loss: 0.4453, Val Acc: 85.24%\n"
          ]
        },
        {
          "output_type": "stream",
          "name": "stderr",
          "text": []
        },
        {
          "output_type": "stream",
          "name": "stdout",
          "text": [
            "Epoch 8/10 (Fold 2, Combo 4): Train Loss: 0.2533, Train Acc: 92.22%, Val Loss: 0.4399, Val Acc: 85.24%\n"
          ]
        },
        {
          "output_type": "stream",
          "name": "stderr",
          "text": []
        },
        {
          "output_type": "stream",
          "name": "stdout",
          "text": [
            "Epoch 9/10 (Fold 2, Combo 4): Train Loss: 0.2028, Train Acc: 94.28%, Val Loss: 0.5142, Val Acc: 82.04%\n"
          ]
        },
        {
          "output_type": "stream",
          "name": "stderr",
          "text": []
        },
        {
          "output_type": "stream",
          "name": "stdout",
          "text": [
            "Epoch 10/10 (Fold 2, Combo 4): Train Loss: 0.1927, Train Acc: 94.26%, Val Loss: 0.4347, Val Acc: 86.18%\n",
            "Completed 4/2 hyperparameter combinations for Fold 2\n",
            "\n",
            "=== Fold 3/5 ===\n"
          ]
        },
        {
          "output_type": "stream",
          "name": "stderr",
          "text": [
            "Some weights of ViTForImageClassification were not initialized from the model checkpoint at google/vit-base-patch32-224-in21k and are newly initialized: ['classifier.bias', 'classifier.weight']\n",
            "You should probably TRAIN this model on a down-stream task to be able to use it for predictions and inference.\n"
          ]
        },
        {
          "output_type": "stream",
          "name": "stdout",
          "text": [
            "Starting hyperparameter combination 1/2: lr=0.001, attention_heads=8\n"
          ]
        },
        {
          "output_type": "stream",
          "name": "stderr",
          "text": []
        },
        {
          "output_type": "stream",
          "name": "stdout",
          "text": [
            "Epoch 1/10 (Fold 3, Combo 1): Train Loss: 1.0937, Train Acc: 65.78%, Val Loss: 0.9615, Val Acc: 68.10%\n"
          ]
        },
        {
          "output_type": "stream",
          "name": "stderr",
          "text": []
        },
        {
          "output_type": "stream",
          "name": "stdout",
          "text": [
            "Epoch 2/10 (Fold 3, Combo 1): Train Loss: 0.9445, Train Acc: 67.11%, Val Loss: 0.9148, Val Acc: 68.30%\n"
          ]
        },
        {
          "output_type": "stream",
          "name": "stderr",
          "text": []
        },
        {
          "output_type": "stream",
          "name": "stdout",
          "text": [
            "Epoch 3/10 (Fold 3, Combo 1): Train Loss: 0.8916, Train Acc: 68.43%, Val Loss: 0.8563, Val Acc: 69.70%\n"
          ]
        },
        {
          "output_type": "stream",
          "name": "stderr",
          "text": []
        },
        {
          "output_type": "stream",
          "name": "stdout",
          "text": [
            "Epoch 4/10 (Fold 3, Combo 1): Train Loss: 0.8249, Train Acc: 69.17%, Val Loss: 0.7841, Val Acc: 71.34%\n"
          ]
        },
        {
          "output_type": "stream",
          "name": "stderr",
          "text": []
        },
        {
          "output_type": "stream",
          "name": "stdout",
          "text": [
            "Epoch 5/10 (Fold 3, Combo 1): Train Loss: 0.7839, Train Acc: 70.76%, Val Loss: 0.7440, Val Acc: 71.99%\n"
          ]
        },
        {
          "output_type": "stream",
          "name": "stderr",
          "text": []
        },
        {
          "output_type": "stream",
          "name": "stdout",
          "text": [
            "Epoch 6/10 (Fold 3, Combo 1): Train Loss: 0.7473, Train Acc: 72.04%, Val Loss: 0.7272, Val Acc: 72.99%\n"
          ]
        },
        {
          "output_type": "stream",
          "name": "stderr",
          "text": []
        },
        {
          "output_type": "stream",
          "name": "stdout",
          "text": [
            "Epoch 7/10 (Fold 3, Combo 1): Train Loss: 0.7850, Train Acc: 71.09%, Val Loss: 0.7239, Val Acc: 72.19%\n"
          ]
        },
        {
          "output_type": "stream",
          "name": "stderr",
          "text": []
        },
        {
          "output_type": "stream",
          "name": "stdout",
          "text": [
            "Epoch 8/10 (Fold 3, Combo 1): Train Loss: 0.7439, Train Acc: 71.34%, Val Loss: 0.6950, Val Acc: 74.49%\n"
          ]
        },
        {
          "output_type": "stream",
          "name": "stderr",
          "text": []
        },
        {
          "output_type": "stream",
          "name": "stdout",
          "text": [
            "Epoch 9/10 (Fold 3, Combo 1): Train Loss: 0.7002, Train Acc: 73.84%, Val Loss: 0.6862, Val Acc: 73.84%\n"
          ]
        },
        {
          "output_type": "stream",
          "name": "stderr",
          "text": []
        },
        {
          "output_type": "stream",
          "name": "stdout",
          "text": [
            "Epoch 10/10 (Fold 3, Combo 1): Train Loss: 0.6915, Train Acc: 74.08%, Val Loss: 0.6997, Val Acc: 72.94%\n",
            "Completed 1/2 hyperparameter combinations for Fold 3\n"
          ]
        },
        {
          "output_type": "stream",
          "name": "stderr",
          "text": [
            "Some weights of ViTForImageClassification were not initialized from the model checkpoint at google/vit-base-patch32-224-in21k and are newly initialized: ['classifier.bias', 'classifier.weight']\n",
            "You should probably TRAIN this model on a down-stream task to be able to use it for predictions and inference.\n"
          ]
        },
        {
          "output_type": "stream",
          "name": "stdout",
          "text": [
            "Starting hyperparameter combination 2/2: lr=0.001, attention_heads=16\n"
          ]
        },
        {
          "output_type": "stream",
          "name": "stderr",
          "text": []
        },
        {
          "output_type": "stream",
          "name": "stdout",
          "text": [
            "Epoch 1/10 (Fold 3, Combo 2): Train Loss: 1.1072, Train Acc: 64.73%, Val Loss: 0.9457, Val Acc: 67.75%\n"
          ]
        },
        {
          "output_type": "stream",
          "name": "stderr",
          "text": []
        },
        {
          "output_type": "stream",
          "name": "stdout",
          "text": [
            "Epoch 2/10 (Fold 3, Combo 2): Train Loss: 0.9226, Train Acc: 67.36%, Val Loss: 0.8749, Val Acc: 68.70%\n"
          ]
        },
        {
          "output_type": "stream",
          "name": "stderr",
          "text": []
        },
        {
          "output_type": "stream",
          "name": "stdout",
          "text": [
            "Epoch 3/10 (Fold 3, Combo 2): Train Loss: 0.8636, Train Acc: 69.06%, Val Loss: 0.8791, Val Acc: 68.30%\n"
          ]
        },
        {
          "output_type": "stream",
          "name": "stderr",
          "text": []
        },
        {
          "output_type": "stream",
          "name": "stdout",
          "text": [
            "Epoch 4/10 (Fold 3, Combo 2): Train Loss: 0.8199, Train Acc: 69.33%, Val Loss: 0.8484, Val Acc: 69.35%\n"
          ]
        },
        {
          "output_type": "stream",
          "name": "stderr",
          "text": []
        },
        {
          "output_type": "stream",
          "name": "stdout",
          "text": [
            "Epoch 5/10 (Fold 3, Combo 2): Train Loss: 0.7743, Train Acc: 70.77%, Val Loss: 0.7425, Val Acc: 72.59%\n"
          ]
        },
        {
          "output_type": "stream",
          "name": "stderr",
          "text": []
        },
        {
          "output_type": "stream",
          "name": "stdout",
          "text": [
            "Epoch 6/10 (Fold 3, Combo 2): Train Loss: 0.7568, Train Acc: 72.00%, Val Loss: 0.7164, Val Acc: 73.74%\n"
          ]
        },
        {
          "output_type": "stream",
          "name": "stderr",
          "text": []
        },
        {
          "output_type": "stream",
          "name": "stdout",
          "text": [
            "Epoch 7/10 (Fold 3, Combo 2): Train Loss: 0.7252, Train Acc: 73.04%, Val Loss: 0.7063, Val Acc: 73.29%\n"
          ]
        },
        {
          "output_type": "stream",
          "name": "stderr",
          "text": []
        },
        {
          "output_type": "stream",
          "name": "stdout",
          "text": [
            "Epoch 8/10 (Fold 3, Combo 2): Train Loss: 0.6993, Train Acc: 73.49%, Val Loss: 0.6629, Val Acc: 75.29%\n"
          ]
        },
        {
          "output_type": "stream",
          "name": "stderr",
          "text": []
        },
        {
          "output_type": "stream",
          "name": "stdout",
          "text": [
            "Epoch 9/10 (Fold 3, Combo 2): Train Loss: 0.6709, Train Acc: 74.25%, Val Loss: 0.7040, Val Acc: 73.64%\n"
          ]
        },
        {
          "output_type": "stream",
          "name": "stderr",
          "text": []
        },
        {
          "output_type": "stream",
          "name": "stdout",
          "text": [
            "Epoch 10/10 (Fold 3, Combo 2): Train Loss: 0.6475, Train Acc: 75.15%, Val Loss: 0.7158, Val Acc: 73.69%\n",
            "Completed 2/2 hyperparameter combinations for Fold 3\n"
          ]
        },
        {
          "output_type": "stream",
          "name": "stderr",
          "text": [
            "Some weights of ViTForImageClassification were not initialized from the model checkpoint at google/vit-base-patch32-224-in21k and are newly initialized: ['classifier.bias', 'classifier.weight']\n",
            "You should probably TRAIN this model on a down-stream task to be able to use it for predictions and inference.\n"
          ]
        },
        {
          "output_type": "stream",
          "name": "stdout",
          "text": [
            "Starting hyperparameter combination 3/2: lr=0.0001, attention_heads=8\n"
          ]
        },
        {
          "output_type": "stream",
          "name": "stderr",
          "text": []
        },
        {
          "output_type": "stream",
          "name": "stdout",
          "text": [
            "Epoch 1/10 (Fold 3, Combo 3): Train Loss: 1.0559, Train Acc: 65.80%, Val Loss: 0.8569, Val Acc: 72.39%\n"
          ]
        },
        {
          "output_type": "stream",
          "name": "stderr",
          "text": []
        },
        {
          "output_type": "stream",
          "name": "stdout",
          "text": [
            "Epoch 2/10 (Fold 3, Combo 3): Train Loss: 0.7783, Train Acc: 73.76%, Val Loss: 0.6925, Val Acc: 77.53%\n"
          ]
        },
        {
          "output_type": "stream",
          "name": "stderr",
          "text": []
        },
        {
          "output_type": "stream",
          "name": "stdout",
          "text": [
            "Epoch 3/10 (Fold 3, Combo 3): Train Loss: 0.6454, Train Acc: 78.62%, Val Loss: 0.6176, Val Acc: 79.73%\n"
          ]
        },
        {
          "output_type": "stream",
          "name": "stderr",
          "text": []
        },
        {
          "output_type": "stream",
          "name": "stdout",
          "text": [
            "Epoch 4/10 (Fold 3, Combo 3): Train Loss: 0.5497, Train Acc: 81.85%, Val Loss: 0.5473, Val Acc: 81.68%\n"
          ]
        },
        {
          "output_type": "stream",
          "name": "stderr",
          "text": []
        },
        {
          "output_type": "stream",
          "name": "stdout",
          "text": [
            "Epoch 5/10 (Fold 3, Combo 3): Train Loss: 0.4734, Train Acc: 84.61%, Val Loss: 0.5281, Val Acc: 81.73%\n"
          ]
        },
        {
          "output_type": "stream",
          "name": "stderr",
          "text": []
        },
        {
          "output_type": "stream",
          "name": "stdout",
          "text": [
            "Epoch 6/10 (Fold 3, Combo 3): Train Loss: 0.3925, Train Acc: 87.48%, Val Loss: 0.4816, Val Acc: 83.08%\n"
          ]
        },
        {
          "output_type": "stream",
          "name": "stderr",
          "text": []
        },
        {
          "output_type": "stream",
          "name": "stdout",
          "text": [
            "Epoch 7/10 (Fold 3, Combo 3): Train Loss: 0.3367, Train Acc: 89.14%, Val Loss: 0.4810, Val Acc: 83.18%\n"
          ]
        },
        {
          "output_type": "stream",
          "name": "stderr",
          "text": []
        },
        {
          "output_type": "stream",
          "name": "stdout",
          "text": [
            "Epoch 8/10 (Fold 3, Combo 3): Train Loss: 0.2948, Train Acc: 90.95%, Val Loss: 0.4717, Val Acc: 84.37%\n"
          ]
        },
        {
          "output_type": "stream",
          "name": "stderr",
          "text": []
        },
        {
          "output_type": "stream",
          "name": "stdout",
          "text": [
            "Epoch 9/10 (Fold 3, Combo 3): Train Loss: 0.2453, Train Acc: 92.46%, Val Loss: 0.4844, Val Acc: 84.57%\n"
          ]
        },
        {
          "output_type": "stream",
          "name": "stderr",
          "text": []
        },
        {
          "output_type": "stream",
          "name": "stdout",
          "text": [
            "Epoch 10/10 (Fold 3, Combo 3): Train Loss: 0.1949, Train Acc: 94.32%, Val Loss: 0.5316, Val Acc: 82.63%\n",
            "Completed 3/2 hyperparameter combinations for Fold 3\n"
          ]
        },
        {
          "output_type": "stream",
          "name": "stderr",
          "text": [
            "Some weights of ViTForImageClassification were not initialized from the model checkpoint at google/vit-base-patch32-224-in21k and are newly initialized: ['classifier.bias', 'classifier.weight']\n",
            "You should probably TRAIN this model on a down-stream task to be able to use it for predictions and inference.\n"
          ]
        },
        {
          "output_type": "stream",
          "name": "stdout",
          "text": [
            "Starting hyperparameter combination 4/2: lr=0.0001, attention_heads=16\n"
          ]
        },
        {
          "output_type": "stream",
          "name": "stderr",
          "text": []
        },
        {
          "output_type": "stream",
          "name": "stdout",
          "text": [
            "Epoch 1/10 (Fold 3, Combo 4): Train Loss: 1.0638, Train Acc: 66.51%, Val Loss: 0.8407, Val Acc: 74.14%\n"
          ]
        },
        {
          "output_type": "stream",
          "name": "stderr",
          "text": []
        },
        {
          "output_type": "stream",
          "name": "stdout",
          "text": [
            "Epoch 2/10 (Fold 3, Combo 4): Train Loss: 0.7538, Train Acc: 75.62%, Val Loss: 0.6534, Val Acc: 80.08%\n"
          ]
        },
        {
          "output_type": "stream",
          "name": "stderr",
          "text": []
        },
        {
          "output_type": "stream",
          "name": "stdout",
          "text": [
            "Epoch 3/10 (Fold 3, Combo 4): Train Loss: 0.6017, Train Acc: 80.73%, Val Loss: 0.5749, Val Acc: 81.18%\n"
          ]
        },
        {
          "output_type": "stream",
          "name": "stderr",
          "text": []
        },
        {
          "output_type": "stream",
          "name": "stdout",
          "text": [
            "Epoch 4/10 (Fold 3, Combo 4): Train Loss: 0.4850, Train Acc: 84.64%, Val Loss: 0.5274, Val Acc: 82.88%\n"
          ]
        },
        {
          "output_type": "stream",
          "name": "stderr",
          "text": []
        },
        {
          "output_type": "stream",
          "name": "stdout",
          "text": [
            "Epoch 5/10 (Fold 3, Combo 4): Train Loss: 0.4180, Train Acc: 86.86%, Val Loss: 0.4882, Val Acc: 83.13%\n"
          ]
        },
        {
          "output_type": "stream",
          "name": "stderr",
          "text": []
        },
        {
          "output_type": "stream",
          "name": "stdout",
          "text": [
            "Epoch 6/10 (Fold 3, Combo 4): Train Loss: 0.3363, Train Acc: 89.90%, Val Loss: 0.4652, Val Acc: 83.82%\n"
          ]
        },
        {
          "output_type": "stream",
          "name": "stderr",
          "text": []
        },
        {
          "output_type": "stream",
          "name": "stdout",
          "text": [
            "Epoch 7/10 (Fold 3, Combo 4): Train Loss: 0.2659, Train Acc: 92.21%, Val Loss: 0.4786, Val Acc: 84.42%\n"
          ]
        },
        {
          "output_type": "stream",
          "name": "stderr",
          "text": []
        },
        {
          "output_type": "stream",
          "name": "stdout",
          "text": [
            "Epoch 8/10 (Fold 3, Combo 4): Train Loss: 0.2277, Train Acc: 93.10%, Val Loss: 0.4485, Val Acc: 83.77%\n"
          ]
        },
        {
          "output_type": "stream",
          "name": "stderr",
          "text": []
        },
        {
          "output_type": "stream",
          "name": "stdout",
          "text": [
            "Epoch 9/10 (Fold 3, Combo 4): Train Loss: 0.1872, Train Acc: 94.43%, Val Loss: 0.5289, Val Acc: 81.18%\n"
          ]
        },
        {
          "output_type": "stream",
          "name": "stderr",
          "text": []
        },
        {
          "output_type": "stream",
          "name": "stdout",
          "text": [
            "Epoch 10/10 (Fold 3, Combo 4): Train Loss: 0.1582, Train Acc: 95.33%, Val Loss: 0.4980, Val Acc: 85.87%\n",
            "Completed 4/2 hyperparameter combinations for Fold 3\n",
            "\n",
            "=== Fold 4/5 ===\n"
          ]
        },
        {
          "output_type": "stream",
          "name": "stderr",
          "text": [
            "Some weights of ViTForImageClassification were not initialized from the model checkpoint at google/vit-base-patch32-224-in21k and are newly initialized: ['classifier.bias', 'classifier.weight']\n",
            "You should probably TRAIN this model on a down-stream task to be able to use it for predictions and inference.\n"
          ]
        },
        {
          "output_type": "stream",
          "name": "stdout",
          "text": [
            "Starting hyperparameter combination 1/2: lr=0.001, attention_heads=8\n"
          ]
        },
        {
          "output_type": "stream",
          "name": "stderr",
          "text": []
        },
        {
          "output_type": "stream",
          "name": "stdout",
          "text": [
            "Epoch 1/10 (Fold 4, Combo 1): Train Loss: 1.1071, Train Acc: 66.79%, Val Loss: 0.9995, Val Acc: 65.58%\n"
          ]
        },
        {
          "output_type": "stream",
          "name": "stderr",
          "text": []
        },
        {
          "output_type": "stream",
          "name": "stdout",
          "text": [
            "Epoch 2/10 (Fold 4, Combo 1): Train Loss: 0.9097, Train Acc: 67.93%, Val Loss: 0.9677, Val Acc: 63.44%\n"
          ]
        },
        {
          "output_type": "stream",
          "name": "stderr",
          "text": []
        },
        {
          "output_type": "stream",
          "name": "stdout",
          "text": [
            "Epoch 3/10 (Fold 4, Combo 1): Train Loss: 0.8689, Train Acc: 68.84%, Val Loss: 0.8578, Val Acc: 67.83%\n"
          ]
        },
        {
          "output_type": "stream",
          "name": "stderr",
          "text": []
        },
        {
          "output_type": "stream",
          "name": "stdout",
          "text": [
            "Epoch 4/10 (Fold 4, Combo 1): Train Loss: 0.7997, Train Acc: 69.99%, Val Loss: 0.8149, Val Acc: 69.78%\n"
          ]
        },
        {
          "output_type": "stream",
          "name": "stderr",
          "text": []
        },
        {
          "output_type": "stream",
          "name": "stdout",
          "text": [
            "Epoch 5/10 (Fold 4, Combo 1): Train Loss: 0.8010, Train Acc: 70.25%, Val Loss: 0.7809, Val Acc: 70.48%\n"
          ]
        },
        {
          "output_type": "stream",
          "name": "stderr",
          "text": []
        },
        {
          "output_type": "stream",
          "name": "stdout",
          "text": [
            "Epoch 6/10 (Fold 4, Combo 1): Train Loss: 0.7368, Train Acc: 71.96%, Val Loss: 0.7534, Val Acc: 70.73%\n"
          ]
        },
        {
          "output_type": "stream",
          "name": "stderr",
          "text": []
        },
        {
          "output_type": "stream",
          "name": "stdout",
          "text": [
            "Epoch 7/10 (Fold 4, Combo 1): Train Loss: 0.7070, Train Acc: 73.21%, Val Loss: 0.7732, Val Acc: 71.38%\n"
          ]
        },
        {
          "output_type": "stream",
          "name": "stderr",
          "text": []
        },
        {
          "output_type": "stream",
          "name": "stdout",
          "text": [
            "Epoch 8/10 (Fold 4, Combo 1): Train Loss: 0.7064, Train Acc: 73.26%, Val Loss: 0.7283, Val Acc: 72.33%\n"
          ]
        },
        {
          "output_type": "stream",
          "name": "stderr",
          "text": []
        },
        {
          "output_type": "stream",
          "name": "stdout",
          "text": [
            "Epoch 9/10 (Fold 4, Combo 1): Train Loss: 0.6750, Train Acc: 74.09%, Val Loss: 0.7145, Val Acc: 73.83%\n"
          ]
        },
        {
          "output_type": "stream",
          "name": "stderr",
          "text": []
        },
        {
          "output_type": "stream",
          "name": "stdout",
          "text": [
            "Epoch 10/10 (Fold 4, Combo 1): Train Loss: 0.6438, Train Acc: 75.46%, Val Loss: 0.6932, Val Acc: 73.93%\n",
            "Completed 1/2 hyperparameter combinations for Fold 4\n"
          ]
        },
        {
          "output_type": "stream",
          "name": "stderr",
          "text": [
            "Some weights of ViTForImageClassification were not initialized from the model checkpoint at google/vit-base-patch32-224-in21k and are newly initialized: ['classifier.bias', 'classifier.weight']\n",
            "You should probably TRAIN this model on a down-stream task to be able to use it for predictions and inference.\n"
          ]
        },
        {
          "output_type": "stream",
          "name": "stdout",
          "text": [
            "Starting hyperparameter combination 2/2: lr=0.001, attention_heads=16\n"
          ]
        },
        {
          "output_type": "stream",
          "name": "stderr",
          "text": []
        },
        {
          "output_type": "stream",
          "name": "stdout",
          "text": [
            "Epoch 1/10 (Fold 4, Combo 2): Train Loss: 1.1156, Train Acc: 64.06%, Val Loss: 1.0353, Val Acc: 65.98%\n"
          ]
        },
        {
          "output_type": "stream",
          "name": "stderr",
          "text": []
        },
        {
          "output_type": "stream",
          "name": "stdout",
          "text": [
            "Epoch 2/10 (Fold 4, Combo 2): Train Loss: 0.9204, Train Acc: 67.69%, Val Loss: 0.8978, Val Acc: 66.38%\n"
          ]
        },
        {
          "output_type": "stream",
          "name": "stderr",
          "text": []
        },
        {
          "output_type": "stream",
          "name": "stdout",
          "text": [
            "Epoch 3/10 (Fold 4, Combo 2): Train Loss: 0.8406, Train Acc: 69.50%, Val Loss: 0.8869, Val Acc: 68.93%\n"
          ]
        },
        {
          "output_type": "stream",
          "name": "stderr",
          "text": []
        },
        {
          "output_type": "stream",
          "name": "stdout",
          "text": [
            "Epoch 4/10 (Fold 4, Combo 2): Train Loss: 0.8025, Train Acc: 70.34%, Val Loss: 0.9742, Val Acc: 67.98%\n"
          ]
        },
        {
          "output_type": "stream",
          "name": "stderr",
          "text": []
        },
        {
          "output_type": "stream",
          "name": "stdout",
          "text": [
            "Epoch 5/10 (Fold 4, Combo 2): Train Loss: 0.7671, Train Acc: 71.32%, Val Loss: 0.7509, Val Acc: 73.08%\n"
          ]
        },
        {
          "output_type": "stream",
          "name": "stderr",
          "text": []
        },
        {
          "output_type": "stream",
          "name": "stdout",
          "text": [
            "Epoch 6/10 (Fold 4, Combo 2): Train Loss: 0.7410, Train Acc: 72.34%, Val Loss: 0.7344, Val Acc: 72.28%\n"
          ]
        },
        {
          "output_type": "stream",
          "name": "stderr",
          "text": []
        },
        {
          "output_type": "stream",
          "name": "stdout",
          "text": [
            "Epoch 7/10 (Fold 4, Combo 2): Train Loss: 0.6910, Train Acc: 73.99%, Val Loss: 0.7388, Val Acc: 72.73%\n"
          ]
        },
        {
          "output_type": "stream",
          "name": "stderr",
          "text": []
        },
        {
          "output_type": "stream",
          "name": "stdout",
          "text": [
            "Epoch 8/10 (Fold 4, Combo 2): Train Loss: 0.6680, Train Acc: 74.53%, Val Loss: 0.9016, Val Acc: 65.43%\n"
          ]
        },
        {
          "output_type": "stream",
          "name": "stderr",
          "text": []
        },
        {
          "output_type": "stream",
          "name": "stdout",
          "text": [
            "Epoch 9/10 (Fold 4, Combo 2): Train Loss: 0.7324, Train Acc: 72.37%, Val Loss: 0.7640, Val Acc: 72.18%\n"
          ]
        },
        {
          "output_type": "stream",
          "name": "stderr",
          "text": []
        },
        {
          "output_type": "stream",
          "name": "stdout",
          "text": [
            "Epoch 10/10 (Fold 4, Combo 2): Train Loss: 0.6461, Train Acc: 74.99%, Val Loss: 0.7045, Val Acc: 73.93%\n",
            "Completed 2/2 hyperparameter combinations for Fold 4\n"
          ]
        },
        {
          "output_type": "stream",
          "name": "stderr",
          "text": [
            "Some weights of ViTForImageClassification were not initialized from the model checkpoint at google/vit-base-patch32-224-in21k and are newly initialized: ['classifier.bias', 'classifier.weight']\n",
            "You should probably TRAIN this model on a down-stream task to be able to use it for predictions and inference.\n"
          ]
        },
        {
          "output_type": "stream",
          "name": "stdout",
          "text": [
            "Starting hyperparameter combination 3/2: lr=0.0001, attention_heads=8\n"
          ]
        },
        {
          "output_type": "stream",
          "name": "stderr",
          "text": []
        },
        {
          "output_type": "stream",
          "name": "stdout",
          "text": [
            "Epoch 1/10 (Fold 4, Combo 3): Train Loss: 1.0798, Train Acc: 66.04%, Val Loss: 0.9366, Val Acc: 69.53%\n"
          ]
        },
        {
          "output_type": "stream",
          "name": "stderr",
          "text": []
        },
        {
          "output_type": "stream",
          "name": "stdout",
          "text": [
            "Epoch 2/10 (Fold 4, Combo 3): Train Loss: 0.7533, Train Acc: 74.97%, Val Loss: 0.8219, Val Acc: 71.48%\n"
          ]
        },
        {
          "output_type": "stream",
          "name": "stderr",
          "text": []
        },
        {
          "output_type": "stream",
          "name": "stdout",
          "text": [
            "Epoch 3/10 (Fold 4, Combo 3): Train Loss: 0.6320, Train Acc: 79.41%, Val Loss: 0.6569, Val Acc: 78.92%\n"
          ]
        },
        {
          "output_type": "stream",
          "name": "stderr",
          "text": []
        },
        {
          "output_type": "stream",
          "name": "stdout",
          "text": [
            "Epoch 4/10 (Fold 4, Combo 3): Train Loss: 0.5311, Train Acc: 82.62%, Val Loss: 0.5877, Val Acc: 80.17%\n"
          ]
        },
        {
          "output_type": "stream",
          "name": "stderr",
          "text": []
        },
        {
          "output_type": "stream",
          "name": "stdout",
          "text": [
            "Epoch 5/10 (Fold 4, Combo 3): Train Loss: 0.4478, Train Acc: 85.27%, Val Loss: 0.5261, Val Acc: 82.32%\n"
          ]
        },
        {
          "output_type": "stream",
          "name": "stderr",
          "text": []
        },
        {
          "output_type": "stream",
          "name": "stdout",
          "text": [
            "Epoch 6/10 (Fold 4, Combo 3): Train Loss: 0.3772, Train Acc: 87.69%, Val Loss: 0.5119, Val Acc: 83.62%\n"
          ]
        },
        {
          "output_type": "stream",
          "name": "stderr",
          "text": []
        },
        {
          "output_type": "stream",
          "name": "stdout",
          "text": [
            "Epoch 7/10 (Fold 4, Combo 3): Train Loss: 0.3220, Train Acc: 89.90%, Val Loss: 0.5048, Val Acc: 82.42%\n"
          ]
        },
        {
          "output_type": "stream",
          "name": "stderr",
          "text": []
        },
        {
          "output_type": "stream",
          "name": "stdout",
          "text": [
            "Epoch 8/10 (Fold 4, Combo 3): Train Loss: 0.2597, Train Acc: 91.89%, Val Loss: 0.4653, Val Acc: 83.92%\n"
          ]
        },
        {
          "output_type": "stream",
          "name": "stderr",
          "text": []
        },
        {
          "output_type": "stream",
          "name": "stdout",
          "text": [
            "Epoch 9/10 (Fold 4, Combo 3): Train Loss: 0.2234, Train Acc: 92.95%, Val Loss: 0.4851, Val Acc: 84.17%\n"
          ]
        },
        {
          "output_type": "stream",
          "name": "stderr",
          "text": []
        },
        {
          "output_type": "stream",
          "name": "stdout",
          "text": [
            "Epoch 10/10 (Fold 4, Combo 3): Train Loss: 0.1875, Train Acc: 94.22%, Val Loss: 0.4685, Val Acc: 84.07%\n",
            "Completed 3/2 hyperparameter combinations for Fold 4\n"
          ]
        },
        {
          "output_type": "stream",
          "name": "stderr",
          "text": [
            "Some weights of ViTForImageClassification were not initialized from the model checkpoint at google/vit-base-patch32-224-in21k and are newly initialized: ['classifier.bias', 'classifier.weight']\n",
            "You should probably TRAIN this model on a down-stream task to be able to use it for predictions and inference.\n"
          ]
        },
        {
          "output_type": "stream",
          "name": "stdout",
          "text": [
            "Starting hyperparameter combination 4/2: lr=0.0001, attention_heads=16\n"
          ]
        },
        {
          "output_type": "stream",
          "name": "stderr",
          "text": []
        },
        {
          "output_type": "stream",
          "name": "stdout",
          "text": [
            "Epoch 1/10 (Fold 4, Combo 4): Train Loss: 1.0577, Train Acc: 66.44%, Val Loss: 0.9078, Val Acc: 70.08%\n"
          ]
        },
        {
          "output_type": "stream",
          "name": "stderr",
          "text": []
        },
        {
          "output_type": "stream",
          "name": "stdout",
          "text": [
            "Epoch 2/10 (Fold 4, Combo 4): Train Loss: 0.7617, Train Acc: 74.57%, Val Loss: 0.7470, Val Acc: 75.52%\n"
          ]
        },
        {
          "output_type": "stream",
          "name": "stderr",
          "text": []
        },
        {
          "output_type": "stream",
          "name": "stdout",
          "text": [
            "Epoch 3/10 (Fold 4, Combo 4): Train Loss: 0.6165, Train Acc: 79.83%, Val Loss: 0.7296, Val Acc: 75.52%\n"
          ]
        },
        {
          "output_type": "stream",
          "name": "stderr",
          "text": []
        },
        {
          "output_type": "stream",
          "name": "stdout",
          "text": [
            "Epoch 4/10 (Fold 4, Combo 4): Train Loss: 0.5099, Train Acc: 83.75%, Val Loss: 0.5854, Val Acc: 81.37%\n"
          ]
        },
        {
          "output_type": "stream",
          "name": "stderr",
          "text": []
        },
        {
          "output_type": "stream",
          "name": "stdout",
          "text": [
            "Epoch 5/10 (Fold 4, Combo 4): Train Loss: 0.4273, Train Acc: 86.14%, Val Loss: 0.5112, Val Acc: 82.87%\n"
          ]
        },
        {
          "output_type": "stream",
          "name": "stderr",
          "text": []
        },
        {
          "output_type": "stream",
          "name": "stdout",
          "text": [
            "Epoch 6/10 (Fold 4, Combo 4): Train Loss: 0.3578, Train Acc: 88.37%, Val Loss: 0.5691, Val Acc: 81.07%\n"
          ]
        },
        {
          "output_type": "stream",
          "name": "stderr",
          "text": []
        },
        {
          "output_type": "stream",
          "name": "stdout",
          "text": [
            "Epoch 7/10 (Fold 4, Combo 4): Train Loss: 0.3040, Train Acc: 90.80%, Val Loss: 0.4974, Val Acc: 82.07%\n"
          ]
        },
        {
          "output_type": "stream",
          "name": "stderr",
          "text": []
        },
        {
          "output_type": "stream",
          "name": "stdout",
          "text": [
            "Epoch 8/10 (Fold 4, Combo 4): Train Loss: 0.2391, Train Acc: 92.69%, Val Loss: 0.4689, Val Acc: 84.27%\n"
          ]
        },
        {
          "output_type": "stream",
          "name": "stderr",
          "text": []
        },
        {
          "output_type": "stream",
          "name": "stdout",
          "text": [
            "Epoch 9/10 (Fold 4, Combo 4): Train Loss: 0.2050, Train Acc: 93.84%, Val Loss: 0.4885, Val Acc: 83.87%\n"
          ]
        },
        {
          "output_type": "stream",
          "name": "stderr",
          "text": []
        },
        {
          "output_type": "stream",
          "name": "stdout",
          "text": [
            "Epoch 10/10 (Fold 4, Combo 4): Train Loss: 0.1647, Train Acc: 94.91%, Val Loss: 0.4590, Val Acc: 86.16%\n",
            "Completed 4/2 hyperparameter combinations for Fold 4\n",
            "\n",
            "=== Fold 5/5 ===\n"
          ]
        },
        {
          "output_type": "stream",
          "name": "stderr",
          "text": [
            "Some weights of ViTForImageClassification were not initialized from the model checkpoint at google/vit-base-patch32-224-in21k and are newly initialized: ['classifier.bias', 'classifier.weight']\n",
            "You should probably TRAIN this model on a down-stream task to be able to use it for predictions and inference.\n"
          ]
        },
        {
          "output_type": "stream",
          "name": "stdout",
          "text": [
            "Starting hyperparameter combination 1/2: lr=0.001, attention_heads=8\n"
          ]
        },
        {
          "output_type": "stream",
          "name": "stderr",
          "text": []
        },
        {
          "output_type": "stream",
          "name": "stdout",
          "text": [
            "Epoch 1/10 (Fold 5, Combo 1): Train Loss: 1.1631, Train Acc: 64.87%, Val Loss: 1.0623, Val Acc: 67.50%\n"
          ]
        },
        {
          "output_type": "stream",
          "name": "stderr",
          "text": []
        },
        {
          "output_type": "stream",
          "name": "stdout",
          "text": [
            "Epoch 2/10 (Fold 5, Combo 1): Train Loss: 0.9718, Train Acc: 66.65%, Val Loss: 0.9174, Val Acc: 68.00%\n"
          ]
        },
        {
          "output_type": "stream",
          "name": "stderr",
          "text": []
        },
        {
          "output_type": "stream",
          "name": "stdout",
          "text": [
            "Epoch 3/10 (Fold 5, Combo 1): Train Loss: 0.8978, Train Acc: 67.81%, Val Loss: 0.8609, Val Acc: 68.10%\n"
          ]
        },
        {
          "output_type": "stream",
          "name": "stderr",
          "text": []
        },
        {
          "output_type": "stream",
          "name": "stdout",
          "text": [
            "Epoch 4/10 (Fold 5, Combo 1): Train Loss: 0.8372, Train Acc: 69.34%, Val Loss: 0.8186, Val Acc: 69.35%\n"
          ]
        },
        {
          "output_type": "stream",
          "name": "stderr",
          "text": []
        },
        {
          "output_type": "stream",
          "name": "stdout",
          "text": [
            "Epoch 5/10 (Fold 5, Combo 1): Train Loss: 0.8270, Train Acc: 69.52%, Val Loss: 0.7873, Val Acc: 70.20%\n"
          ]
        },
        {
          "output_type": "stream",
          "name": "stderr",
          "text": []
        },
        {
          "output_type": "stream",
          "name": "stdout",
          "text": [
            "Epoch 6/10 (Fold 5, Combo 1): Train Loss: 0.7614, Train Acc: 71.39%, Val Loss: 0.7388, Val Acc: 72.00%\n"
          ]
        },
        {
          "output_type": "stream",
          "name": "stderr",
          "text": []
        },
        {
          "output_type": "stream",
          "name": "stdout",
          "text": [
            "Epoch 7/10 (Fold 5, Combo 1): Train Loss: 0.7301, Train Acc: 72.81%, Val Loss: 0.7387, Val Acc: 73.30%\n"
          ]
        },
        {
          "output_type": "stream",
          "name": "stderr",
          "text": []
        },
        {
          "output_type": "stream",
          "name": "stdout",
          "text": [
            "Epoch 8/10 (Fold 5, Combo 1): Train Loss: 0.7057, Train Acc: 73.01%, Val Loss: 0.6876, Val Acc: 74.15%\n"
          ]
        },
        {
          "output_type": "stream",
          "name": "stderr",
          "text": []
        },
        {
          "output_type": "stream",
          "name": "stdout",
          "text": [
            "Epoch 9/10 (Fold 5, Combo 1): Train Loss: 0.6999, Train Acc: 73.13%, Val Loss: 0.6931, Val Acc: 74.40%\n"
          ]
        },
        {
          "output_type": "stream",
          "name": "stderr",
          "text": []
        },
        {
          "output_type": "stream",
          "name": "stdout",
          "text": [
            "Epoch 10/10 (Fold 5, Combo 1): Train Loss: 0.6829, Train Acc: 73.76%, Val Loss: 0.7060, Val Acc: 73.35%\n",
            "Completed 1/2 hyperparameter combinations for Fold 5\n"
          ]
        },
        {
          "output_type": "stream",
          "name": "stderr",
          "text": [
            "Some weights of ViTForImageClassification were not initialized from the model checkpoint at google/vit-base-patch32-224-in21k and are newly initialized: ['classifier.bias', 'classifier.weight']\n",
            "You should probably TRAIN this model on a down-stream task to be able to use it for predictions and inference.\n"
          ]
        },
        {
          "output_type": "stream",
          "name": "stdout",
          "text": [
            "Starting hyperparameter combination 2/2: lr=0.001, attention_heads=16\n"
          ]
        },
        {
          "output_type": "stream",
          "name": "stderr",
          "text": []
        },
        {
          "output_type": "stream",
          "name": "stdout",
          "text": [
            "Epoch 1/10 (Fold 5, Combo 2): Train Loss: 1.1122, Train Acc: 65.64%, Val Loss: 0.9372, Val Acc: 66.40%\n"
          ]
        },
        {
          "output_type": "stream",
          "name": "stderr",
          "text": []
        },
        {
          "output_type": "stream",
          "name": "stdout",
          "text": [
            "Epoch 2/10 (Fold 5, Combo 2): Train Loss: 0.9128, Train Acc: 67.62%, Val Loss: 0.8601, Val Acc: 69.45%\n"
          ]
        },
        {
          "output_type": "stream",
          "name": "stderr",
          "text": []
        },
        {
          "output_type": "stream",
          "name": "stdout",
          "text": [
            "Epoch 3/10 (Fold 5, Combo 2): Train Loss: 0.8440, Train Acc: 69.33%, Val Loss: 0.8307, Val Acc: 69.50%\n"
          ]
        },
        {
          "output_type": "stream",
          "name": "stderr",
          "text": []
        },
        {
          "output_type": "stream",
          "name": "stdout",
          "text": [
            "Epoch 4/10 (Fold 5, Combo 2): Train Loss: 0.8013, Train Acc: 70.07%, Val Loss: 0.7791, Val Acc: 70.80%\n"
          ]
        },
        {
          "output_type": "stream",
          "name": "stderr",
          "text": []
        },
        {
          "output_type": "stream",
          "name": "stdout",
          "text": [
            "Epoch 5/10 (Fold 5, Combo 2): Train Loss: 0.7451, Train Acc: 72.35%, Val Loss: 0.7400, Val Acc: 71.95%\n"
          ]
        },
        {
          "output_type": "stream",
          "name": "stderr",
          "text": []
        },
        {
          "output_type": "stream",
          "name": "stdout",
          "text": [
            "Epoch 6/10 (Fold 5, Combo 2): Train Loss: 0.7171, Train Acc: 73.66%, Val Loss: 0.7487, Val Acc: 71.50%\n"
          ]
        },
        {
          "output_type": "stream",
          "name": "stderr",
          "text": []
        },
        {
          "output_type": "stream",
          "name": "stdout",
          "text": [
            "Epoch 7/10 (Fold 5, Combo 2): Train Loss: 0.6895, Train Acc: 73.60%, Val Loss: 0.7070, Val Acc: 73.80%\n"
          ]
        },
        {
          "output_type": "stream",
          "name": "stderr",
          "text": []
        },
        {
          "output_type": "stream",
          "name": "stdout",
          "text": [
            "Epoch 8/10 (Fold 5, Combo 2): Train Loss: 0.6998, Train Acc: 73.45%, Val Loss: 0.7075, Val Acc: 73.50%\n"
          ]
        },
        {
          "output_type": "stream",
          "name": "stderr",
          "text": []
        },
        {
          "output_type": "stream",
          "name": "stdout",
          "text": [
            "Epoch 9/10 (Fold 5, Combo 2): Train Loss: 0.6447, Train Acc: 75.65%, Val Loss: 0.6755, Val Acc: 75.05%\n"
          ]
        },
        {
          "output_type": "stream",
          "name": "stderr",
          "text": []
        },
        {
          "output_type": "stream",
          "name": "stdout",
          "text": [
            "Epoch 10/10 (Fold 5, Combo 2): Train Loss: 0.6161, Train Acc: 76.46%, Val Loss: 0.7164, Val Acc: 71.00%\n",
            "Completed 2/2 hyperparameter combinations for Fold 5\n"
          ]
        },
        {
          "output_type": "stream",
          "name": "stderr",
          "text": [
            "Some weights of ViTForImageClassification were not initialized from the model checkpoint at google/vit-base-patch32-224-in21k and are newly initialized: ['classifier.bias', 'classifier.weight']\n",
            "You should probably TRAIN this model on a down-stream task to be able to use it for predictions and inference.\n"
          ]
        },
        {
          "output_type": "stream",
          "name": "stdout",
          "text": [
            "Starting hyperparameter combination 3/2: lr=0.0001, attention_heads=8\n"
          ]
        },
        {
          "output_type": "stream",
          "name": "stderr",
          "text": []
        },
        {
          "output_type": "stream",
          "name": "stdout",
          "text": [
            "Epoch 1/10 (Fold 5, Combo 3): Train Loss: 1.0615, Train Acc: 66.11%, Val Loss: 0.8351, Val Acc: 71.55%\n"
          ]
        },
        {
          "output_type": "stream",
          "name": "stderr",
          "text": []
        },
        {
          "output_type": "stream",
          "name": "stdout",
          "text": [
            "Epoch 2/10 (Fold 5, Combo 3): Train Loss: 0.7362, Train Acc: 75.75%, Val Loss: 0.6812, Val Acc: 78.35%\n"
          ]
        },
        {
          "output_type": "stream",
          "name": "stderr",
          "text": []
        },
        {
          "output_type": "stream",
          "name": "stdout",
          "text": [
            "Epoch 3/10 (Fold 5, Combo 3): Train Loss: 0.6003, Train Acc: 80.11%, Val Loss: 0.5812, Val Acc: 81.40%\n"
          ]
        },
        {
          "output_type": "stream",
          "name": "stderr",
          "text": []
        },
        {
          "output_type": "stream",
          "name": "stdout",
          "text": [
            "Epoch 4/10 (Fold 5, Combo 3): Train Loss: 0.5175, Train Acc: 83.21%, Val Loss: 0.5831, Val Acc: 80.90%\n"
          ]
        },
        {
          "output_type": "stream",
          "name": "stderr",
          "text": []
        },
        {
          "output_type": "stream",
          "name": "stdout",
          "text": [
            "Epoch 5/10 (Fold 5, Combo 3): Train Loss: 0.4644, Train Acc: 84.68%, Val Loss: 0.4826, Val Acc: 83.80%\n"
          ]
        },
        {
          "output_type": "stream",
          "name": "stderr",
          "text": []
        },
        {
          "output_type": "stream",
          "name": "stdout",
          "text": [
            "Epoch 6/10 (Fold 5, Combo 3): Train Loss: 0.3792, Train Acc: 87.82%, Val Loss: 0.4880, Val Acc: 83.70%\n"
          ]
        },
        {
          "output_type": "stream",
          "name": "stderr",
          "text": []
        },
        {
          "output_type": "stream",
          "name": "stdout",
          "text": [
            "Epoch 7/10 (Fold 5, Combo 3): Train Loss: 0.3419, Train Acc: 89.23%, Val Loss: 0.5034, Val Acc: 83.50%\n"
          ]
        },
        {
          "output_type": "stream",
          "name": "stderr",
          "text": []
        },
        {
          "output_type": "stream",
          "name": "stdout",
          "text": [
            "Epoch 8/10 (Fold 5, Combo 3): Train Loss: 0.2854, Train Acc: 90.85%, Val Loss: 0.4387, Val Acc: 85.10%\n"
          ]
        },
        {
          "output_type": "stream",
          "name": "stderr",
          "text": []
        },
        {
          "output_type": "stream",
          "name": "stdout",
          "text": [
            "Epoch 9/10 (Fold 5, Combo 3): Train Loss: 0.2423, Train Acc: 92.23%, Val Loss: 0.5033, Val Acc: 83.15%\n"
          ]
        },
        {
          "output_type": "stream",
          "name": "stderr",
          "text": []
        },
        {
          "output_type": "stream",
          "name": "stdout",
          "text": [
            "Epoch 10/10 (Fold 5, Combo 3): Train Loss: 0.2016, Train Acc: 93.76%, Val Loss: 0.4744, Val Acc: 84.80%\n",
            "Completed 3/2 hyperparameter combinations for Fold 5\n"
          ]
        },
        {
          "output_type": "stream",
          "name": "stderr",
          "text": [
            "Some weights of ViTForImageClassification were not initialized from the model checkpoint at google/vit-base-patch32-224-in21k and are newly initialized: ['classifier.bias', 'classifier.weight']\n",
            "You should probably TRAIN this model on a down-stream task to be able to use it for predictions and inference.\n"
          ]
        },
        {
          "output_type": "stream",
          "name": "stdout",
          "text": [
            "Starting hyperparameter combination 4/2: lr=0.0001, attention_heads=16\n"
          ]
        },
        {
          "output_type": "stream",
          "name": "stderr",
          "text": []
        },
        {
          "output_type": "stream",
          "name": "stdout",
          "text": [
            "Epoch 1/10 (Fold 5, Combo 4): Train Loss: 1.0892, Train Acc: 66.51%, Val Loss: 0.8462, Val Acc: 72.40%\n"
          ]
        },
        {
          "output_type": "stream",
          "name": "stderr",
          "text": []
        },
        {
          "output_type": "stream",
          "name": "stdout",
          "text": [
            "Epoch 2/10 (Fold 5, Combo 4): Train Loss: 0.7513, Train Acc: 75.30%, Val Loss: 0.7225, Val Acc: 75.90%\n"
          ]
        },
        {
          "output_type": "stream",
          "name": "stderr",
          "text": []
        },
        {
          "output_type": "stream",
          "name": "stdout",
          "text": [
            "Epoch 3/10 (Fold 5, Combo 4): Train Loss: 0.6170, Train Acc: 79.56%, Val Loss: 0.6024, Val Acc: 80.45%\n"
          ]
        },
        {
          "output_type": "stream",
          "name": "stderr",
          "text": []
        },
        {
          "output_type": "stream",
          "name": "stdout",
          "text": [
            "Epoch 4/10 (Fold 5, Combo 4): Train Loss: 0.5262, Train Acc: 83.14%, Val Loss: 0.5213, Val Acc: 83.15%\n"
          ]
        },
        {
          "output_type": "stream",
          "name": "stderr",
          "text": []
        },
        {
          "output_type": "stream",
          "name": "stdout",
          "text": [
            "Epoch 5/10 (Fold 5, Combo 4): Train Loss: 0.4313, Train Acc: 86.30%, Val Loss: 0.5114, Val Acc: 82.70%\n"
          ]
        },
        {
          "output_type": "stream",
          "name": "stderr",
          "text": []
        },
        {
          "output_type": "stream",
          "name": "stdout",
          "text": [
            "Epoch 6/10 (Fold 5, Combo 4): Train Loss: 0.3704, Train Acc: 88.40%, Val Loss: 0.4812, Val Acc: 83.85%\n"
          ]
        },
        {
          "output_type": "stream",
          "name": "stderr",
          "text": []
        },
        {
          "output_type": "stream",
          "name": "stdout",
          "text": [
            "Epoch 7/10 (Fold 5, Combo 4): Train Loss: 0.2980, Train Acc: 90.99%, Val Loss: 0.4650, Val Acc: 84.75%\n"
          ]
        },
        {
          "output_type": "stream",
          "name": "stderr",
          "text": []
        },
        {
          "output_type": "stream",
          "name": "stdout",
          "text": [
            "Epoch 8/10 (Fold 5, Combo 4): Train Loss: 0.2712, Train Acc: 91.50%, Val Loss: 0.4766, Val Acc: 84.70%\n"
          ]
        },
        {
          "output_type": "stream",
          "name": "stderr",
          "text": []
        },
        {
          "output_type": "stream",
          "name": "stdout",
          "text": [
            "Epoch 9/10 (Fold 5, Combo 4): Train Loss: 0.1997, Train Acc: 94.24%, Val Loss: 0.4213, Val Acc: 86.25%\n"
          ]
        },
        {
          "output_type": "stream",
          "name": "stderr",
          "text": [
            "                                                                                                    "
          ]
        },
        {
          "output_type": "stream",
          "name": "stdout",
          "text": [
            "Epoch 10/10 (Fold 5, Combo 4): Train Loss: 0.1618, Train Acc: 95.11%, Val Loss: 0.4682, Val Acc: 84.25%\n",
            "Completed 4/2 hyperparameter combinations for Fold 5\n",
            "Best Hyperparameters: {'lr': 0.0001, 'attention_heads': 16}\n",
            "Best Accuracy: 0.8618453865336658\n"
          ]
        },
        {
          "output_type": "stream",
          "name": "stderr",
          "text": [
            "\r"
          ]
        }
      ]
    },
    {
      "cell_type": "code",
      "source": [
        "# Loop through all the hyperparameter test results\n",
        "for i, (params, accuracy) in enumerate(results_tuning):\n",
        "    print(f\"Test {i+1}: Hyperparameters: {params}, Accuracy: {accuracy:.4f}\")\n",
        "\n",
        "# Output the best hyperparameters and accuracy\n",
        "best_result = max(results_tuning, key=lambda x: x[1])\n",
        "print(\"\\nBest Hyperparameters:\", best_result[0])\n",
        "print(\"Best Accuracy:\", best_result[1])"
      ],
      "metadata": {
        "colab": {
          "base_uri": "https://localhost:8080/"
        },
        "id": "1o0nSLZgH1Bf",
        "outputId": "a669ad3d-8d1b-4963-92c3-346926a1f71f"
      },
      "execution_count": 3,
      "outputs": [
        {
          "output_type": "stream",
          "name": "stdout",
          "text": [
            "Test 1: Hyperparameters: {'lr': 0.001, 'attention_heads': 8}, Accuracy: 0.7397\n",
            "Test 2: Hyperparameters: {'lr': 0.001, 'attention_heads': 16}, Accuracy: 0.7651\n",
            "Test 3: Hyperparameters: {'lr': 0.0001, 'attention_heads': 8}, Accuracy: 0.8244\n",
            "Test 4: Hyperparameters: {'lr': 0.0001, 'attention_heads': 16}, Accuracy: 0.8544\n",
            "Test 5: Hyperparameters: {'lr': 0.001, 'attention_heads': 8}, Accuracy: 0.7162\n",
            "Test 6: Hyperparameters: {'lr': 0.001, 'attention_heads': 16}, Accuracy: 0.7516\n",
            "Test 7: Hyperparameters: {'lr': 0.0001, 'attention_heads': 8}, Accuracy: 0.8369\n",
            "Test 8: Hyperparameters: {'lr': 0.0001, 'attention_heads': 16}, Accuracy: 0.8618\n",
            "Test 9: Hyperparameters: {'lr': 0.001, 'attention_heads': 8}, Accuracy: 0.7294\n",
            "Test 10: Hyperparameters: {'lr': 0.001, 'attention_heads': 16}, Accuracy: 0.7369\n",
            "Test 11: Hyperparameters: {'lr': 0.0001, 'attention_heads': 8}, Accuracy: 0.8263\n",
            "Test 12: Hyperparameters: {'lr': 0.0001, 'attention_heads': 16}, Accuracy: 0.8587\n",
            "Test 13: Hyperparameters: {'lr': 0.001, 'attention_heads': 8}, Accuracy: 0.7393\n",
            "Test 14: Hyperparameters: {'lr': 0.001, 'attention_heads': 16}, Accuracy: 0.7393\n",
            "Test 15: Hyperparameters: {'lr': 0.0001, 'attention_heads': 8}, Accuracy: 0.8407\n",
            "Test 16: Hyperparameters: {'lr': 0.0001, 'attention_heads': 16}, Accuracy: 0.8616\n",
            "Test 17: Hyperparameters: {'lr': 0.001, 'attention_heads': 8}, Accuracy: 0.7335\n",
            "Test 18: Hyperparameters: {'lr': 0.001, 'attention_heads': 16}, Accuracy: 0.7100\n",
            "Test 19: Hyperparameters: {'lr': 0.0001, 'attention_heads': 8}, Accuracy: 0.8480\n",
            "Test 20: Hyperparameters: {'lr': 0.0001, 'attention_heads': 16}, Accuracy: 0.8425\n",
            "\n",
            "Best Hyperparameters: {'lr': 0.0001, 'attention_heads': 16}\n",
            "Best Accuracy: 0.8618453865336658\n"
          ]
        }
      ]
    },
    {
      "cell_type": "code",
      "source": [
        "# Constants for saving models\n",
        "RESULT_SAVE_DIR = 'drive/MyDrive/ViT_Result'  # Directory to save results\n",
        "MODEL_SAVE_DIR = 'drive/MyDrive/ViT_Model'  # Directory to save models\n",
        "\n",
        "best_params = {'lr': 0.0001, 'attention_heads': 16}\n",
        "\n",
        "# Configurable hyperparameters\n",
        "EPOCHS = 100   # Set the number of epochs here\n",
        "BATCH_SIZE = 512  # Set the batch size here\n",
        "PATIENCE = 10 # Early stopping patience (number of epochs with no improvement)\n",
        "\n",
        "# Create a training function for each fold\n",
        "def train_model(X_train, y_train, X_test, y_test, device, params, fold):\n",
        "    model = ViTForImageClassification.from_pretrained(\n",
        "        MODEL_NAME,\n",
        "        num_labels=len(set(y_train)),\n",
        "        num_attention_heads=params['attention_heads']\n",
        "    )\n",
        "    model.to(device)\n",
        "    optimizer = optim.AdamW(model.parameters(), lr=params['lr'])\n",
        "    criterion = nn.CrossEntropyLoss()\n",
        "\n",
        "    train_dataset = SkinCancerDataset(X_train, IMAGE_DIRS, feature_extractor, transform=train_transform)\n",
        "    test_dataset = SkinCancerDataset(X_test, IMAGE_DIRS, feature_extractor, transform=val_test_transform)\n",
        "\n",
        "    train_loader = DataLoader(train_dataset, batch_size=BATCH_SIZE, shuffle=True)\n",
        "    test_loader = DataLoader(test_dataset, batch_size=BATCH_SIZE, shuffle=False)\n",
        "\n",
        "    best_val_acc = 0\n",
        "    patience_counter = 0\n",
        "\n",
        "    # To store the epoch-wise results\n",
        "    epoch_results = {\n",
        "        'epoch': [],\n",
        "        'train_loss': [],\n",
        "        'train_acc': [],\n",
        "        'val_loss': [],\n",
        "        'val_acc': []\n",
        "    }\n",
        "\n",
        "    # Training loop\n",
        "    for epoch in range(EPOCHS):\n",
        "        model.train()\n",
        "        train_loss = 0.0\n",
        "        correct = 0\n",
        "        total = 0\n",
        "        for images, labels in train_loader:\n",
        "            images, labels = images.to(device), labels.to(device)\n",
        "            optimizer.zero_grad()\n",
        "            outputs = model(images).logits\n",
        "            loss = criterion(outputs, labels)\n",
        "            loss.backward()\n",
        "            optimizer.step()\n",
        "\n",
        "            train_loss += loss.item() * images.size(0)\n",
        "            _, predicted = torch.max(outputs, 1)\n",
        "            total += labels.size(0)\n",
        "            correct += (predicted == labels).sum().item()\n",
        "\n",
        "        train_acc = correct / total\n",
        "\n",
        "        # Validation step\n",
        "        model.eval()\n",
        "        val_loss = 0.0\n",
        "        correct = 0\n",
        "        total = 0\n",
        "        with torch.no_grad():\n",
        "            for images, labels in test_loader:\n",
        "                images, labels = images.to(device), labels.to(device)\n",
        "                outputs = model(images).logits\n",
        "                loss = criterion(outputs, labels)\n",
        "\n",
        "                val_loss += loss.item() * images.size(0)\n",
        "                _, predicted = torch.max(outputs, 1)\n",
        "                total += labels.size(0)\n",
        "                correct += (predicted == labels).sum().item()\n",
        "\n",
        "        val_acc = correct / total\n",
        "\n",
        "        # Append the results for the current epoch\n",
        "        epoch_results['epoch'].append(epoch + 1)\n",
        "        epoch_results['train_loss'].append(train_loss / total)\n",
        "        epoch_results['train_acc'].append(train_acc * 100)\n",
        "        epoch_results['val_loss'].append(val_loss / total)\n",
        "        epoch_results['val_acc'].append(val_acc * 100)\n",
        "\n",
        "        # Print epoch progress\n",
        "        print(f\"Fold {fold+1}, Epoch {epoch+1}/{EPOCHS} - Train Loss: {train_loss:.4f}, Train Acc: {train_acc*100:.2f}%, \"\n",
        "              f\"Val Loss: {val_loss:.4f}, Val Acc: {val_acc*100:.2f}%\")\n",
        "\n",
        "        # Early stopping logic\n",
        "        if val_acc > best_val_acc:\n",
        "            best_val_acc = val_acc\n",
        "            patience_counter = 0\n",
        "        else:\n",
        "            patience_counter += 1\n",
        "\n",
        "        if patience_counter >= PATIENCE:\n",
        "            print(\"Early stopping triggered.\")\n",
        "            break\n",
        "\n",
        "    # Save epoch-wise results to CSV file\n",
        "    epoch_df = pd.DataFrame(epoch_results)\n",
        "    accuracy_file_name = f\"{RESULT_SAVE_DIR}/fold{fold+1}_accuracy.csv\"\n",
        "    epoch_df.to_csv(accuracy_file_name, index=False)\n",
        "    print(f\"Epoch accuracy and loss saved to {accuracy_file_name}\")\n",
        "\n",
        "    # After training, evaluate on the test fold and save predictions\n",
        "    model.eval()\n",
        "    predictions = []\n",
        "    actuals = []\n",
        "    with torch.no_grad():\n",
        "        for images, labels in test_loader:\n",
        "            images = images.to(device)\n",
        "            outputs = model(images).logits\n",
        "            _, predicted = torch.max(outputs, 1)\n",
        "            predictions.extend(predicted.cpu().numpy())\n",
        "            actuals.extend(labels.cpu().numpy())\n",
        "\n",
        "    # Save results to a CSV file\n",
        "    result_df = pd.DataFrame({\n",
        "        'Prediction': predictions,\n",
        "        'Actual': actuals\n",
        "    })\n",
        "    file_name = f\"{RESULT_SAVE_DIR}/fold{fold+1}.csv\"\n",
        "    result_df.to_csv(file_name, index=False)\n",
        "    print(f\"Fold {fold+1} predictions saved to {file_name}\")\n",
        "\n",
        "    return model, best_val_acc\n",
        "\n",
        "# Main 20-fold Cross-Validation with stratifiedKFold\n",
        "X = metadata\n",
        "y = metadata['dx_encoded']\n",
        "\n",
        "# Initialize stratified KFold with 20 splits\n",
        "skf = stratifiedKFold(n_split=20, shuffle=True, random_state=42)\n",
        "\n",
        "best_model_state_dict = None  # To store the best model's state_dict\n",
        "best_model_acc = 0  # To track the best validation accuracy across folds\n",
        "\n",
        "# Iterate through stratified KFold splits\n",
        "for fold_idx, (train_idx, test_idx) in enumerate(skf.split(X, y)):\n",
        "    print(f\"\\n=== Starting Fold {fold_idx+1}/20 ===\")\n",
        "    X_train, X_test = X.iloc[train_idx], X.iloc[test_idx]\n",
        "    y_train, y_test = y.iloc[train_idx], y.iloc[test_idx]\n",
        "\n",
        "    # Train the model and test\n",
        "    model, val_acc = train_model(X_train, y_train, X_test, y_test, device, best_params, fold_idx)\n",
        "\n",
        "    # Check if this fold's model has the best validation accuracy so far\n",
        "    if val_acc > best_model_acc:\n",
        "        best_model_acc = val_acc\n",
        "        best_model_state_dict = model.state_dict()  # Save the best model state\n",
        "        # Save the best model's state_dict to a file\n",
        "        best_model_path = os.path.join(MODEL_SAVE_DIR, 'best_model.pth')\n",
        "        torch.save(best_model_state_dict, best_model_path)\n",
        "        print(f\"New best model saved from Fold {fold_idx+1} with validation accuracy: {val_acc:.4f}\")\n"
      ],
      "metadata": {
        "colab": {
          "base_uri": "https://localhost:8080/"
        },
        "id": "AFIcewemlA1_",
        "outputId": "86abf54b-8569-4e0a-c053-d3d9097ee71f"
      },
      "execution_count": null,
      "outputs": [
        {
          "output_type": "stream",
          "name": "stdout",
          "text": [
            "\n",
            "=== Starting Fold 1/20 ===\n"
          ]
        },
        {
          "output_type": "stream",
          "name": "stderr",
          "text": [
            "Some weights of ViTForImageClassification were not initialized from the model checkpoint at google/vit-base-patch32-224-in21k and are newly initialized: ['classifier.bias', 'classifier.weight']\n",
            "You should probably TRAIN this model on a down-stream task to be able to use it for predictions and inference.\n"
          ]
        },
        {
          "output_type": "stream",
          "name": "stdout",
          "text": [
            "Fold 1, Epoch 1/100 - Train Loss: 11259.0754, Train Acc: 63.81%, Val Loss: 487.1171, Val Acc: 67.66%\n",
            "Fold 1, Epoch 2/100 - Train Loss: 8187.9549, Train Acc: 71.05%, Val Loss: 415.6670, Val Acc: 74.01%\n",
            "Fold 1, Epoch 3/100 - Train Loss: 6885.5593, Train Acc: 76.82%, Val Loss: 344.3634, Val Acc: 79.37%\n",
            "Fold 1, Epoch 4/100 - Train Loss: 5721.7124, Train Acc: 81.04%, Val Loss: 321.1661, Val Acc: 78.17%\n",
            "Fold 1, Epoch 5/100 - Train Loss: 4969.4738, Train Acc: 83.61%, Val Loss: 278.1323, Val Acc: 81.15%\n",
            "Fold 1, Epoch 6/100 - Train Loss: 4538.0464, Train Acc: 84.78%, Val Loss: 261.3093, Val Acc: 83.13%\n",
            "Fold 1, Epoch 7/100 - Train Loss: 3734.1205, Train Acc: 88.21%, Val Loss: 265.8607, Val Acc: 81.94%\n",
            "Fold 1, Epoch 8/100 - Train Loss: 3252.6198, Train Acc: 89.69%, Val Loss: 273.0413, Val Acc: 81.15%\n",
            "Fold 1, Epoch 9/100 - Train Loss: 2852.2734, Train Acc: 91.05%, Val Loss: 236.3373, Val Acc: 83.53%\n",
            "Fold 1, Epoch 10/100 - Train Loss: 2336.1528, Train Acc: 92.99%, Val Loss: 272.0247, Val Acc: 83.13%\n",
            "Fold 1, Epoch 11/100 - Train Loss: 1984.3018, Train Acc: 94.37%, Val Loss: 252.3382, Val Acc: 84.72%\n",
            "Fold 1, Epoch 12/100 - Train Loss: 1787.7769, Train Acc: 94.69%, Val Loss: 241.5185, Val Acc: 83.73%\n",
            "Fold 1, Epoch 13/100 - Train Loss: 1352.0501, Train Acc: 96.35%, Val Loss: 241.9850, Val Acc: 84.72%\n",
            "Fold 1, Epoch 14/100 - Train Loss: 1356.2330, Train Acc: 96.04%, Val Loss: 248.1369, Val Acc: 84.52%\n"
          ]
        }
      ]
    },
    {
      "cell_type": "code",
      "source": [
        "# Precision-recall curves"
      ],
      "metadata": {
        "id": "k4kqsmcQNnyu"
      },
      "execution_count": null,
      "outputs": []
    }
  ]
}