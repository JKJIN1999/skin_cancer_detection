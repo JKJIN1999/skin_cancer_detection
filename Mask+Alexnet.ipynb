{
  "nbformat": 4,
  "nbformat_minor": 0,
  "metadata": {
    "colab": {
      "provenance": [],
      "gpuType": "T4"
    },
    "kernelspec": {
      "name": "python3",
      "display_name": "Python 3"
    },
    "language_info": {
      "name": "python"
    },
    "accelerator": "GPU"
  },
  "cells": [
    {
      "cell_type": "code",
      "execution_count": 1,
      "metadata": {
        "colab": {
          "base_uri": "https://localhost:8080/"
        },
        "id": "9DTHP5KrKgKN",
        "outputId": "b3b0304c-d459-4771-ba6b-d99aa0482be7"
      },
      "outputs": [
        {
          "output_type": "stream",
          "name": "stdout",
          "text": [
            "Mounted at /content/drive\n"
          ]
        }
      ],
      "source": [
        "from google.colab import drive\n",
        "drive.mount('/content/drive')"
      ]
    },
    {
      "cell_type": "code",
      "source": [
        "!kaggle datasets download -d kmader/skin-cancer-mnist-ham10000"
      ],
      "metadata": {
        "colab": {
          "base_uri": "https://localhost:8080/"
        },
        "id": "4XvS9NFEK1P7",
        "outputId": "a1b92bf2-cd9c-43e3-c6a8-4db5f8f484c3"
      },
      "execution_count": 4,
      "outputs": [
        {
          "output_type": "stream",
          "name": "stdout",
          "text": [
            "Dataset URL: https://www.kaggle.com/datasets/kmader/skin-cancer-mnist-ham10000\n",
            "License(s): CC-BY-NC-SA-4.0\n",
            "Downloading skin-cancer-mnist-ham10000.zip to /content\n",
            "100% 5.20G/5.20G [03:03<00:00, 29.3MB/s]\n",
            "100% 5.20G/5.20G [03:03<00:00, 30.5MB/s]\n"
          ]
        }
      ]
    },
    {
      "cell_type": "code",
      "source": [
        "! mkdir data\n",
        "! unzip -q skin-cancer-mnist-ham10000.zip -d data\n",
        "! unzip -q /content/drive/MyDrive/HAM10000_segmentations_lesion_tschandl.zip -d data"
      ],
      "metadata": {
        "id": "_fDPHQmNNfzf"
      },
      "execution_count": 5,
      "outputs": []
    },
    {
      "cell_type": "code",
      "source": [
        "! mkdir models"
      ],
      "metadata": {
        "id": "0oBsyRD7OJVY"
      },
      "execution_count": 6,
      "outputs": []
    },
    {
      "cell_type": "code",
      "source": [
        "import albumentations as A\n",
        "import time\n",
        "import os\n",
        "import pandas as pd\n",
        "import numpy as np\n",
        "import matplotlib.pyplot as plt\n",
        "import seaborn as sns\n",
        "from tqdm import tqdm\n",
        "from PIL import Image\n",
        "from transformers import ViTModel, ViTConfig\n",
        "import torch.nn as nn\n",
        "import copy\n",
        "from albumentations.pytorch import ToTensorV2\n",
        "import torch\n",
        "import torch.nn.functional as Fun\n",
        "from torch.utils.data import Dataset, DataLoader, WeightedRandomSampler\n",
        "from torchvision import transforms\n",
        "\n",
        "from sklearn.model_selection import train_test_split\n",
        "from sklearn.preprocessing import LabelEncoder\n",
        "from sklearn.metrics import classification_report, confusion_matrix\n",
        "\n"
      ],
      "metadata": {
        "colab": {
          "base_uri": "https://localhost:8080/"
        },
        "id": "Xed-uqMPMQxP",
        "outputId": "cb53d90f-a761-414c-c7c5-3c488d2c4415"
      },
      "execution_count": 2,
      "outputs": [
        {
          "output_type": "stream",
          "name": "stderr",
          "text": [
            "/usr/local/lib/python3.10/dist-packages/albumentations/__init__.py:13: UserWarning: A new version of Albumentations is available: 1.4.17 (you have 1.4.15). Upgrade using: pip install -U albumentations. To disable automatic update checks, set the environment variable NO_ALBUMENTATIONS_UPDATE to 1.\n",
            "  check_for_updates()\n"
          ]
        }
      ]
    },
    {
      "cell_type": "code",
      "source": [
        "DEVICE = torch.device('cuda' if torch.cuda.is_available() else 'cpu')\n",
        "print(f\"Using device: {DEVICE}\")"
      ],
      "metadata": {
        "colab": {
          "base_uri": "https://localhost:8080/"
        },
        "id": "R0nYIa5HMLfx",
        "outputId": "f75f9966-3bbf-45f6-aaae-f413d7197ce1"
      },
      "execution_count": 3,
      "outputs": [
        {
          "output_type": "stream",
          "name": "stdout",
          "text": [
            "Using device: cuda\n"
          ]
        }
      ]
    },
    {
      "cell_type": "code",
      "source": [
        "DATA_DIR = 'data/'\n",
        "\n",
        "METADATA_FILE = os.path.join(DATA_DIR, 'HAM10000_metadata.csv')\n",
        "IMAGE_DIRS = [os.path.join(DATA_DIR, 'HAM10000_images_part_1'),\n",
        "              os.path.join(DATA_DIR, 'HAM10000_images_part_2')]\n",
        "MASK_DIR = os.path.join(DATA_DIR, 'HAM10000_segmentations_lesion_tschandl')\n",
        "\n",
        "metadata = pd.read_csv(METADATA_FILE)"
      ],
      "metadata": {
        "id": "JGVm23BDOYWJ"
      },
      "execution_count": 7,
      "outputs": []
    },
    {
      "cell_type": "code",
      "source": [
        "le = LabelEncoder()\n",
        "metadata['dx_encoded'] = le.fit_transform(metadata['dx'])\n",
        "num_classes = len(le.classes_)\n",
        "print(f\"Number of classes: {num_classes}\")\n",
        "print(le.classes_)\n",
        "print(metadata['image_id'])"
      ],
      "metadata": {
        "colab": {
          "base_uri": "https://localhost:8080/"
        },
        "id": "o2g1iHp9OoqL",
        "outputId": "bf654c83-9469-4f84-d411-37a4ca1602b6"
      },
      "execution_count": 8,
      "outputs": [
        {
          "output_type": "stream",
          "name": "stdout",
          "text": [
            "Number of classes: 7\n",
            "['akiec' 'bcc' 'bkl' 'df' 'mel' 'nv' 'vasc']\n",
            "0        ISIC_0027419\n",
            "1        ISIC_0025030\n",
            "2        ISIC_0026769\n",
            "3        ISIC_0025661\n",
            "4        ISIC_0031633\n",
            "             ...     \n",
            "10010    ISIC_0033084\n",
            "10011    ISIC_0033550\n",
            "10012    ISIC_0033536\n",
            "10013    ISIC_0032854\n",
            "10014    ISIC_0032258\n",
            "Name: image_id, Length: 10015, dtype: object\n"
          ]
        }
      ]
    },
    {
      "cell_type": "code",
      "source": [
        "train_df, test_df = train_test_split(metadata, test_size=0.2, stratify=metadata['dx'], random_state=42)\n",
        "train_df, val_df = train_test_split(train_df, test_size=0.1, stratify=train_df['dx'], random_state=42)\n",
        "\n",
        "print(f\"Training samples: {len(train_df)}\")\n",
        "print(f\"Validation samples: {len(val_df)}\")\n",
        "print(f\"Testing samples: {len(test_df)}\")"
      ],
      "metadata": {
        "colab": {
          "base_uri": "https://localhost:8080/"
        },
        "id": "j_2s8UfYPRWU",
        "outputId": "447c6e4d-0fda-4b03-cbb7-aa4241469233"
      },
      "execution_count": 9,
      "outputs": [
        {
          "output_type": "stream",
          "name": "stdout",
          "text": [
            "Training samples: 7210\n",
            "Validation samples: 802\n",
            "Testing samples: 2003\n"
          ]
        }
      ]
    },
    {
      "cell_type": "code",
      "source": [
        "class SkinCancerDataset(Dataset):\n",
        "    def __init__(self, dataframe, image_dirs, mask_dir, transform=None):\n",
        "        \"\"\"\n",
        "        Args:\n",
        "            dataframe (pd.DataFrame): DataFrame containing image information and labels.\n",
        "            image_dirs (list): List of directories where images are stored.\n",
        "            mask_dir (str): Directory where segmentation masks are stored.\n",
        "            transform (callable, optional): Transformations to apply to the images.\n",
        "            mask_transform (callable, optional): Transformations to apply to the masks.\n",
        "        \"\"\"\n",
        "        self.dataframe = dataframe.reset_index(drop=True)\n",
        "        self.image_dirs = image_dirs\n",
        "        self.mask_dir = mask_dir\n",
        "        self.transform = transform\n",
        "\n",
        "    def __len__(self):\n",
        "        return len(self.dataframe)\n",
        "\n",
        "    def apply_mask(self, image, mask):\n",
        "        # focus on the lesion area of the image\n",
        "        return image * np.expand_dims(mask, axis=0)\n",
        "\n",
        "    def __getitem__(self, idx):\n",
        "        # Extract image ID and label\n",
        "        img_id = self.dataframe.loc[idx, 'image_id']\n",
        "        label = self.dataframe.loc[idx, 'dx_encoded']\n",
        "\n",
        "        # Find image path\n",
        "        img_path = None\n",
        "        for dir in self.image_dirs:\n",
        "            potential_path = os.path.join(dir, f\"{img_id}.jpg\")\n",
        "            if os.path.exists(potential_path):\n",
        "                img_path = potential_path\n",
        "                break\n",
        "        if img_path is None:\n",
        "            raise FileNotFoundError(f\"Image {img_id} not found in specified directories.\")\n",
        "\n",
        "        # Find mask path\n",
        "        mask_path = os.path.join(self.mask_dir, f\"{img_id}_segmentation.png\")\n",
        "        if not os.path.exists(mask_path):\n",
        "            raise FileNotFoundError(f\"Mask for image {img_id} not found in {self.mask_dir}.\")\n",
        "\n",
        "        # Load image\n",
        "        image = np.array(Image.open(img_path).convert('RGB'))\n",
        "\n",
        "        # Load mask\n",
        "        mask = np.array(Image.open(mask_path).convert('L'))  # Grayscale\n",
        "\n",
        "        # Apply transformations and masking to the image\n",
        "        if self.transform:\n",
        "            augmented = self.transform(image=image, mask=mask)\n",
        "            image = augmented['image']\n",
        "            mask = augmented['mask']\n",
        "\n",
        "        masked_image = self.apply_mask(image, mask)\n",
        "\n",
        "        # Convert label to torch.long\n",
        "        label = torch.tensor(label, dtype=torch.long)\n",
        "\n",
        "        return image, label"
      ],
      "metadata": {
        "id": "PQpX0l5KPVj8"
      },
      "execution_count": 25,
      "outputs": []
    },
    {
      "cell_type": "code",
      "source": [
        "train_transform = A.Compose([\n",
        "    A.HorizontalFlip(p=0.5),\n",
        "    A.Rotate(limit=20, p=0.5),\n",
        "    A.Resize(224, 224),\n",
        "    A.Normalize(mean=[0.485, 0.456, 0.406], std=[0.229, 0.224, 0.225]),\n",
        "    ToTensorV2()\n",
        "])\n",
        "\n",
        "val_test_transform = A.Compose([\n",
        "    A.Resize(224, 224),\n",
        "    A.Normalize(mean=[0.485, 0.456, 0.406], std=[0.229, 0.224, 0.225]),\n",
        "    ToTensorV2()\n",
        "])"
      ],
      "metadata": {
        "id": "LtRT3C48RNI1"
      },
      "execution_count": 27,
      "outputs": []
    },
    {
      "cell_type": "code",
      "source": [
        "train_dataset = SkinCancerDataset(\n",
        "    dataframe=train_df,\n",
        "    image_dirs=IMAGE_DIRS,\n",
        "    mask_dir=MASK_DIR,\n",
        "    transform=train_transform\n",
        ")\n",
        "\n",
        "val_dataset = SkinCancerDataset(\n",
        "    dataframe=val_df,\n",
        "    image_dirs=IMAGE_DIRS,\n",
        "    mask_dir=MASK_DIR,\n",
        "    transform=val_test_transform\n",
        ")\n",
        "\n",
        "test_dataset = SkinCancerDataset(\n",
        "    dataframe=test_df,\n",
        "    image_dirs=IMAGE_DIRS,\n",
        "    mask_dir=MASK_DIR,\n",
        "    transform=val_test_transform\n",
        ")"
      ],
      "metadata": {
        "id": "nuKdSKjwR4O-"
      },
      "execution_count": 28,
      "outputs": []
    },
    {
      "cell_type": "code",
      "source": [
        "def train_epoch(model, dataloader, optimizer, criterion, device):\n",
        "    model.train()\n",
        "    running_loss = 0.0\n",
        "    correct = 0\n",
        "    total = 0\n",
        "\n",
        "    for inputs, labels in dataloader:\n",
        "        inputs = inputs.to(device)\n",
        "        labels = labels.to(device)\n",
        "\n",
        "        optimizer.zero_grad()\n",
        "\n",
        "        outputs = model(inputs)\n",
        "        loss = criterion(outputs, labels)\n",
        "\n",
        "        loss.backward()\n",
        "        optimizer.step()\n",
        "\n",
        "        running_loss += loss.item() * inputs.size(0)\n",
        "        _, preds = torch.max(outputs, 1)\n",
        "        correct += torch.sum(preds == labels.data)\n",
        "        total += labels.size(0)\n",
        "\n",
        "    epoch_loss = running_loss / total\n",
        "    epoch_acc = correct.double() / total\n",
        "\n",
        "    return epoch_loss, epoch_acc\n",
        "\n",
        "def eval_epoch(model, dataloader, criterion, device):\n",
        "    model.eval()\n",
        "    running_loss = 0.0\n",
        "    correct = 0\n",
        "    total = 0\n",
        "\n",
        "    with torch.no_grad():\n",
        "        for inputs, labels in dataloader:\n",
        "            inputs = inputs.to(device)\n",
        "            labels = labels.to(device)\n",
        "\n",
        "            outputs = model(inputs)\n",
        "            loss = criterion(outputs, labels)\n",
        "\n",
        "            running_loss += loss.item() * inputs.size(0)\n",
        "            _, preds = torch.max(outputs, 1)\n",
        "            correct += torch.sum(preds == labels.data)\n",
        "            total += labels.size(0)\n",
        "\n",
        "    epoch_loss = running_loss / total\n",
        "    epoch_acc = correct.double() / total\n",
        "\n",
        "    return epoch_loss, epoch_acc"
      ],
      "metadata": {
        "id": "FJyHAC0-fJws"
      },
      "execution_count": 29,
      "outputs": []
    },
    {
      "cell_type": "code",
      "source": [
        "BATCH_SIZE = 64\n",
        "\n",
        "train_loader = DataLoader(train_dataset, batch_size=BATCH_SIZE, shuffle=True, num_workers=2, pin_memory=True)\n",
        "val_loader = DataLoader(val_dataset, batch_size=BATCH_SIZE, shuffle=False, num_workers=2, pin_memory=True)\n",
        "test_loader = DataLoader(test_dataset, batch_size=BATCH_SIZE, shuffle=False, num_workers=2, pin_memory=True)\n",
        "\n",
        "print(f\"Number of training batches: {len(train_loader)}\")\n",
        "print(f\"Number of validation batches: {len(val_loader)}\")\n",
        "print(f\"Number of testing batches: {len(test_loader)}\")"
      ],
      "metadata": {
        "colab": {
          "base_uri": "https://localhost:8080/"
        },
        "id": "12IWGFSDgxEc",
        "outputId": "9db90c7b-50d4-4f35-b1b9-b2e82dbb736f"
      },
      "execution_count": 38,
      "outputs": [
        {
          "output_type": "stream",
          "name": "stdout",
          "text": [
            "Number of training batches: 113\n",
            "Number of validation batches: 13\n",
            "Number of testing batches: 32\n"
          ]
        }
      ]
    },
    {
      "cell_type": "code",
      "source": [
        "model = torch.hub.load('pytorch/vision:v0.10.0', 'alexnet', pretrained=True)\n",
        "model.eval()\n",
        "model = model.to(DEVICE)"
      ],
      "metadata": {
        "colab": {
          "base_uri": "https://localhost:8080/"
        },
        "collapsed": true,
        "id": "HUuLrH63dyrJ",
        "outputId": "a0f25613-135d-4040-de34-124107f2d5e2"
      },
      "execution_count": 36,
      "outputs": [
        {
          "output_type": "stream",
          "name": "stderr",
          "text": [
            "Using cache found in /root/.cache/torch/hub/pytorch_vision_v0.10.0\n",
            "/usr/local/lib/python3.10/dist-packages/torchvision/models/_utils.py:208: UserWarning: The parameter 'pretrained' is deprecated since 0.13 and may be removed in the future, please use 'weights' instead.\n",
            "  warnings.warn(\n",
            "/usr/local/lib/python3.10/dist-packages/torchvision/models/_utils.py:223: UserWarning: Arguments other than a weight enum or `None` for 'weights' are deprecated since 0.13 and may be removed in the future. The current behavior is equivalent to passing `weights=AlexNet_Weights.IMAGENET1K_V1`. You can also use `weights=AlexNet_Weights.DEFAULT` to get the most up-to-date weights.\n",
            "  warnings.warn(msg)\n"
          ]
        }
      ]
    },
    {
      "cell_type": "code",
      "source": [
        "# Define optimizer and scheduler\n",
        "criterion = nn.CrossEntropyLoss()\n",
        "optimizer = torch.optim.Adam(model.parameters(), lr=1e-4)\n",
        "scheduler = torch.optim.lr_scheduler.StepLR(optimizer, step_size=7, gamma=0.1)\n",
        "\n",
        "# Initialize variables for tracking the best model\n",
        "best_model_wts = copy.deepcopy(model.state_dict())\n",
        "best_acc = 0.0\n",
        "num_epochs = 20\n",
        "\n",
        "for epoch in range(num_epochs):\n",
        "    print(f'\\nEpoch {epoch+1}/{num_epochs}')\n",
        "    print('-' * 10)\n",
        "\n",
        "    # Training Phase\n",
        "    train_loss, train_acc = train_epoch(model, train_loader, optimizer, criterion, DEVICE)\n",
        "    print(f'Train Loss: {train_loss:.4f} Acc: {train_acc:.4f}')\n",
        "\n",
        "    # Validation Phase\n",
        "    val_loss, val_acc = eval_epoch(model, val_loader, criterion, DEVICE)\n",
        "    print(f'Val Loss: {val_loss:.4f} Acc: {val_acc:.4f}')\n",
        "\n",
        "    # Check if this is the best model so far\n",
        "    if val_acc > best_acc:\n",
        "        best_acc = val_acc\n",
        "        best_model_wts = copy.deepcopy(model.state_dict())\n",
        "        torch.save(model.state_dict(), 'best_vit_with_mask.pth')\n",
        "        print(f'Best model updated with Val Acc: {best_acc:.4f}')\n",
        "\n",
        "    # Step the scheduler\n",
        "    scheduler.step()\n",
        "\n",
        "print('\\nTraining complete.')\n",
        "print(f'Best Validation Accuracy: {best_acc:.4f}')\n",
        "\n",
        "# Load the best model weights\n",
        "model.load_state_dict(best_model_wts)"
      ],
      "metadata": {
        "colab": {
          "base_uri": "https://localhost:8080/"
        },
        "id": "_9BIxSTkf7Nj",
        "outputId": "6dc15f4a-def8-49ec-e405-3e4d2033c53d"
      },
      "execution_count": 39,
      "outputs": [
        {
          "output_type": "stream",
          "name": "stdout",
          "text": [
            "\n",
            "Epoch 1/20\n",
            "----------\n",
            "Train Loss: 0.8145 Acc: 0.7111\n",
            "Val Loss: 0.7427 Acc: 0.7107\n",
            "Best model updated with Val Acc: 0.7107\n",
            "\n",
            "Epoch 2/20\n",
            "----------\n",
            "Train Loss: 0.6341 Acc: 0.7677\n",
            "Val Loss: 0.6541 Acc: 0.7506\n",
            "Best model updated with Val Acc: 0.7506\n",
            "\n",
            "Epoch 3/20\n",
            "----------\n",
            "Train Loss: 0.5544 Acc: 0.8022\n",
            "Val Loss: 0.5832 Acc: 0.7706\n",
            "Best model updated with Val Acc: 0.7706\n",
            "\n",
            "Epoch 4/20\n",
            "----------\n",
            "Train Loss: 0.4921 Acc: 0.8129\n",
            "Val Loss: 0.5540 Acc: 0.8017\n",
            "Best model updated with Val Acc: 0.8017\n",
            "\n",
            "Epoch 5/20\n",
            "----------\n",
            "Train Loss: 0.4312 Acc: 0.8451\n",
            "Val Loss: 0.5965 Acc: 0.7918\n",
            "\n",
            "Epoch 6/20\n",
            "----------\n",
            "Train Loss: 0.3846 Acc: 0.8607\n",
            "Val Loss: 0.5498 Acc: 0.7968\n",
            "\n",
            "Epoch 7/20\n",
            "----------\n",
            "Train Loss: 0.3495 Acc: 0.8695\n",
            "Val Loss: 0.5574 Acc: 0.8130\n",
            "Best model updated with Val Acc: 0.8130\n",
            "\n",
            "Epoch 8/20\n",
            "----------\n",
            "Train Loss: 0.2627 Acc: 0.9044\n",
            "Val Loss: 0.5147 Acc: 0.8279\n",
            "Best model updated with Val Acc: 0.8279\n",
            "\n",
            "Epoch 9/20\n",
            "----------\n",
            "Train Loss: 0.2325 Acc: 0.9164\n",
            "Val Loss: 0.5205 Acc: 0.8317\n",
            "Best model updated with Val Acc: 0.8317\n",
            "\n",
            "Epoch 10/20\n",
            "----------\n",
            "Train Loss: 0.2203 Acc: 0.9215\n",
            "Val Loss: 0.5121 Acc: 0.8292\n",
            "\n",
            "Epoch 11/20\n",
            "----------\n",
            "Train Loss: 0.2060 Acc: 0.9234\n",
            "Val Loss: 0.5113 Acc: 0.8367\n",
            "Best model updated with Val Acc: 0.8367\n",
            "\n",
            "Epoch 12/20\n",
            "----------\n",
            "Train Loss: 0.1906 Acc: 0.9309\n",
            "Val Loss: 0.5227 Acc: 0.8279\n",
            "\n",
            "Epoch 13/20\n",
            "----------\n",
            "Train Loss: 0.1813 Acc: 0.9354\n",
            "Val Loss: 0.5338 Acc: 0.8304\n",
            "\n",
            "Epoch 14/20\n",
            "----------\n",
            "Train Loss: 0.1800 Acc: 0.9337\n",
            "Val Loss: 0.5445 Acc: 0.8317\n",
            "\n",
            "Epoch 15/20\n",
            "----------\n",
            "Train Loss: 0.1696 Acc: 0.9352\n",
            "Val Loss: 0.5379 Acc: 0.8317\n",
            "\n",
            "Epoch 16/20\n",
            "----------\n",
            "Train Loss: 0.1701 Acc: 0.9376\n",
            "Val Loss: 0.5329 Acc: 0.8342\n",
            "\n",
            "Epoch 17/20\n",
            "----------\n",
            "Train Loss: 0.1685 Acc: 0.9408\n",
            "Val Loss: 0.5353 Acc: 0.8329\n",
            "\n",
            "Epoch 18/20\n",
            "----------\n",
            "Train Loss: 0.1610 Acc: 0.9433\n",
            "Val Loss: 0.5342 Acc: 0.8342\n",
            "\n",
            "Epoch 19/20\n",
            "----------\n",
            "Train Loss: 0.1649 Acc: 0.9374\n",
            "Val Loss: 0.5370 Acc: 0.8329\n",
            "\n",
            "Epoch 20/20\n",
            "----------\n",
            "Train Loss: 0.1695 Acc: 0.9411\n",
            "Val Loss: 0.5342 Acc: 0.8329\n",
            "\n",
            "Training complete.\n",
            "Best Validation Accuracy: 0.8367\n"
          ]
        },
        {
          "output_type": "execute_result",
          "data": {
            "text/plain": [
              "<All keys matched successfully>"
            ]
          },
          "metadata": {},
          "execution_count": 39
        }
      ]
    },
    {
      "cell_type": "code",
      "source": [
        "def plot_confusion_matrix(model, dataloader, device, class_names):\n",
        "    model.eval()\n",
        "    all_preds = []\n",
        "    all_labels = []\n",
        "\n",
        "    with torch.no_grad():\n",
        "        for images, labels in dataloader:\n",
        "            images = images.to(device)\n",
        "            labels = labels.to(device)\n",
        "\n",
        "            outputs = model(images)\n",
        "            _, preds = torch.max(outputs, 1)\n",
        "\n",
        "            all_preds.extend(preds.cpu().numpy())\n",
        "            all_labels.extend(labels.cpu().numpy())\n",
        "\n",
        "    cm = confusion_matrix(all_labels, all_preds)\n",
        "    plt.figure(figsize=(10,8))\n",
        "    sns.heatmap(cm, annot=True, fmt='d', xticklabels=class_names, yticklabels=class_names, cmap='Blues')\n",
        "    plt.xlabel('Predicted Label')\n",
        "    plt.ylabel('True Label')\n",
        "    plt.title('Confusion Matrix')\n",
        "    plt.show()\n",
        "\n",
        "# Assuming you have a list of class names\n",
        "class_names = ['akiec', 'bcc', 'bkl', 'df', 'mel', 'nv', 'vasc']\n",
        "\n",
        "plot_confusion_matrix(model, val_loader, DEVICE, class_names)"
      ],
      "metadata": {
        "colab": {
          "base_uri": "https://localhost:8080/",
          "height": 738
        },
        "id": "iJ5vnjQnyFtF",
        "outputId": "744597ef-0b3d-4088-c039-a819aa5e8019"
      },
      "execution_count": 45,
      "outputs": [
        {
          "output_type": "display_data",
          "data": {
            "text/plain": [
              "<Figure size 1000x800 with 2 Axes>"
            ],
            "image/png": "[encoded data removed]"
          },
          "metadata": {}
        }
      ]
    }
  ]
}